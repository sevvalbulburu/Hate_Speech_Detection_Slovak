{
 "cells": [
  {
   "cell_type": "code",
   "execution_count": 1,
   "metadata": {},
   "outputs": [
    {
     "name": "stderr",
     "output_type": "stream",
     "text": [
      "2023-10-09 12:55:57.264467: I tensorflow/core/util/port.cc:111] oneDNN custom operations are on. You may see slightly different numerical results due to floating-point round-off errors from different computation orders. To turn them off, set the environment variable `TF_ENABLE_ONEDNN_OPTS=0`.\n",
      "2023-10-09 12:55:57.436468: E tensorflow/compiler/xla/stream_executor/cuda/cuda_dnn.cc:9342] Unable to register cuDNN factory: Attempting to register factory for plugin cuDNN when one has already been registered\n",
      "2023-10-09 12:55:57.436497: E tensorflow/compiler/xla/stream_executor/cuda/cuda_fft.cc:609] Unable to register cuFFT factory: Attempting to register factory for plugin cuFFT when one has already been registered\n",
      "2023-10-09 12:55:57.437158: E tensorflow/compiler/xla/stream_executor/cuda/cuda_blas.cc:1518] Unable to register cuBLAS factory: Attempting to register factory for plugin cuBLAS when one has already been registered\n",
      "2023-10-09 12:55:57.488120: I tensorflow/core/platform/cpu_feature_guard.cc:182] This TensorFlow binary is optimized to use available CPU instructions in performance-critical operations.\n",
      "To enable the following instructions: AVX2 AVX512F AVX512_VNNI FMA, in other operations, rebuild TensorFlow with the appropriate compiler flags.\n",
      "2023-10-09 12:55:58.627956: W tensorflow/compiler/tf2tensorrt/utils/py_utils.cc:38] TF-TRT Warning: Could not find TensorRT\n"
     ]
    }
   ],
   "source": [
    "import tensorflow_hub as hub\n",
    "import tensorflow_text as text\n",
    "import tensorflow as tf\n",
    "import pandas as pd\n",
    "from sklearn.model_selection import train_test_split\n",
    "from sklearn.utils import resample\n",
    "import numpy as np\n",
    "from sklearn.metrics import confusion_matrix, classification_report"
   ]
  },
  {
   "cell_type": "code",
   "execution_count": 2,
   "metadata": {},
   "outputs": [
    {
     "name": "stdout",
     "output_type": "stream",
     "text": [
      "GPU devices found: [PhysicalDevice(name='/physical_device:GPU:0', device_type='GPU')]\n",
      "Current GPU device: /device:GPU:0\n",
      "TensorFlow is built with CUDA support (GPU acceleration).\n",
      "[PhysicalDevice(name='/physical_device:GPU:0', device_type='GPU')]\n"
     ]
    },
    {
     "name": "stderr",
     "output_type": "stream",
     "text": [
      "2023-10-09 12:56:02.061001: I tensorflow/compiler/xla/stream_executor/cuda/cuda_gpu_executor.cc:894] successful NUMA node read from SysFS had negative value (-1), but there must be at least one NUMA node, so returning NUMA node zero. See more at https://github.com/torvalds/linux/blob/v6.0/Documentation/ABI/testing/sysfs-bus-pci#L344-L355\n",
      "2023-10-09 12:56:02.123640: I tensorflow/compiler/xla/stream_executor/cuda/cuda_gpu_executor.cc:894] successful NUMA node read from SysFS had negative value (-1), but there must be at least one NUMA node, so returning NUMA node zero. See more at https://github.com/torvalds/linux/blob/v6.0/Documentation/ABI/testing/sysfs-bus-pci#L344-L355\n",
      "2023-10-09 12:56:02.123791: I tensorflow/compiler/xla/stream_executor/cuda/cuda_gpu_executor.cc:894] successful NUMA node read from SysFS had negative value (-1), but there must be at least one NUMA node, so returning NUMA node zero. See more at https://github.com/torvalds/linux/blob/v6.0/Documentation/ABI/testing/sysfs-bus-pci#L344-L355\n",
      "2023-10-09 12:56:02.125448: I tensorflow/compiler/xla/stream_executor/cuda/cuda_gpu_executor.cc:894] successful NUMA node read from SysFS had negative value (-1), but there must be at least one NUMA node, so returning NUMA node zero. See more at https://github.com/torvalds/linux/blob/v6.0/Documentation/ABI/testing/sysfs-bus-pci#L344-L355\n",
      "2023-10-09 12:56:02.125577: I tensorflow/compiler/xla/stream_executor/cuda/cuda_gpu_executor.cc:894] successful NUMA node read from SysFS had negative value (-1), but there must be at least one NUMA node, so returning NUMA node zero. See more at https://github.com/torvalds/linux/blob/v6.0/Documentation/ABI/testing/sysfs-bus-pci#L344-L355\n",
      "2023-10-09 12:56:02.125658: I tensorflow/compiler/xla/stream_executor/cuda/cuda_gpu_executor.cc:894] successful NUMA node read from SysFS had negative value (-1), but there must be at least one NUMA node, so returning NUMA node zero. See more at https://github.com/torvalds/linux/blob/v6.0/Documentation/ABI/testing/sysfs-bus-pci#L344-L355\n",
      "2023-10-09 12:56:02.170188: I tensorflow/compiler/xla/stream_executor/cuda/cuda_gpu_executor.cc:894] successful NUMA node read from SysFS had negative value (-1), but there must be at least one NUMA node, so returning NUMA node zero. See more at https://github.com/torvalds/linux/blob/v6.0/Documentation/ABI/testing/sysfs-bus-pci#L344-L355\n",
      "2023-10-09 12:56:02.170412: I tensorflow/compiler/xla/stream_executor/cuda/cuda_gpu_executor.cc:894] successful NUMA node read from SysFS had negative value (-1), but there must be at least one NUMA node, so returning NUMA node zero. See more at https://github.com/torvalds/linux/blob/v6.0/Documentation/ABI/testing/sysfs-bus-pci#L344-L355\n",
      "2023-10-09 12:56:02.170510: I tensorflow/compiler/xla/stream_executor/cuda/cuda_gpu_executor.cc:894] successful NUMA node read from SysFS had negative value (-1), but there must be at least one NUMA node, so returning NUMA node zero. See more at https://github.com/torvalds/linux/blob/v6.0/Documentation/ABI/testing/sysfs-bus-pci#L344-L355\n",
      "2023-10-09 12:56:02.170581: I tensorflow/core/common_runtime/gpu/gpu_device.cc:1886] Created device /device:GPU:0 with 2284 MB memory:  -> device: 0, name: NVIDIA GeForce RTX 3050 Laptop GPU, pci bus id: 0000:01:00.0, compute capability: 8.6\n"
     ]
    }
   ],
   "source": [
    "# Check if TensorFlow can access any GPU devices\n",
    "gpu_devices = tf.config.list_physical_devices('GPU')\n",
    "\n",
    "if len(gpu_devices) == 0:\n",
    "    print(\"No GPU devices found.\")\n",
    "else:\n",
    "    print(f\"GPU devices found: {gpu_devices}\")\n",
    "\n",
    "# Check which GPU device is currently being used (if any)\n",
    "current_gpu_device = tf.test.gpu_device_name()\n",
    "if current_gpu_device:\n",
    "    print(f\"Current GPU device: {current_gpu_device}\")\n",
    "else:\n",
    "    print(\"No GPU device is currently being used.\")\n",
    "\n",
    "# Check if GPU acceleration is available for TensorFlow\n",
    "if tf.test.is_built_with_cuda():\n",
    "    print(\"TensorFlow is built with CUDA support (GPU acceleration).\")\n",
    "else:\n",
    "    print(\"TensorFlow is not built with CUDA support (GPU acceleration).\")\n",
    "\n",
    "    \n",
    "print(tf.config.list_physical_devices('GPU'))"
   ]
  },
  {
   "cell_type": "code",
   "execution_count": 3,
   "metadata": {},
   "outputs": [],
   "source": [
    "preprocess_url = \"https://tfhub.dev/tensorflow/bert_multi_cased_preprocess/3\"\n",
    "encoder_url = \"https://tfhub.dev/tensorflow/bert_multi_cased_L-12_H-768_A-12/4\" "
   ]
  },
  {
   "cell_type": "code",
   "execution_count": 4,
   "metadata": {},
   "outputs": [
    {
     "data": {
      "text/html": [
       "<div>\n",
       "<style scoped>\n",
       "    .dataframe tbody tr th:only-of-type {\n",
       "        vertical-align: middle;\n",
       "    }\n",
       "\n",
       "    .dataframe tbody tr th {\n",
       "        vertical-align: top;\n",
       "    }\n",
       "\n",
       "    .dataframe thead th {\n",
       "        text-align: right;\n",
       "    }\n",
       "</style>\n",
       "<table border=\"1\" class=\"dataframe\">\n",
       "  <thead>\n",
       "    <tr style=\"text-align: right;\">\n",
       "      <th></th>\n",
       "      <th>Unnamed: 0</th>\n",
       "      <th>tweet</th>\n",
       "      <th>label</th>\n",
       "    </tr>\n",
       "  </thead>\n",
       "  <tbody>\n",
       "    <tr>\n",
       "      <th>0</th>\n",
       "      <td>29</td>\n",
       "      <td>Marek Koolily hovorí s jasnejšími a faktami.</td>\n",
       "      <td>0</td>\n",
       "    </tr>\n",
       "    <tr>\n",
       "      <th>1</th>\n",
       "      <td>30</td>\n",
       "      <td>Vyhýbal som sa parlamentným voľbám už veľmi dlho</td>\n",
       "      <td>0</td>\n",
       "    </tr>\n",
       "    <tr>\n",
       "      <th>2</th>\n",
       "      <td>31</td>\n",
       "      <td>Tak</td>\n",
       "      <td>0</td>\n",
       "    </tr>\n",
       "    <tr>\n",
       "      <th>3</th>\n",
       "      <td>33</td>\n",
       "      <td>Nech vás Boh žehná za prezidenta Zuzana Capputová</td>\n",
       "      <td>0</td>\n",
       "    </tr>\n",
       "    <tr>\n",
       "      <th>4</th>\n",
       "      <td>34</td>\n",
       "      <td>Je to tiež osoba na správnom mieste.Ľudia nás ...</td>\n",
       "      <td>0</td>\n",
       "    </tr>\n",
       "  </tbody>\n",
       "</table>\n",
       "</div>"
      ],
      "text/plain": [
       "  Unnamed: 0                                              tweet  label\n",
       "0         29       Marek Koolily hovorí s jasnejšími a faktami.      0\n",
       "1         30   Vyhýbal som sa parlamentným voľbám už veľmi dlho      0\n",
       "2         31                                                Tak      0\n",
       "3         33  Nech vás Boh žehná za prezidenta Zuzana Capputová      0\n",
       "4         34  Je to tiež osoba na správnom mieste.Ľudia nás ...      0"
      ]
     },
     "execution_count": 4,
     "metadata": {},
     "output_type": "execute_result"
    }
   ],
   "source": [
    "df = pd.read_csv('sk_dataset/slovak_data4_preprocessed.csv')\n",
    "df.head()"
   ]
  },
  {
   "cell_type": "code",
   "execution_count": 95,
   "metadata": {},
   "outputs": [
    {
     "data": {
      "text/plain": [
       "((13158, 3), (13150, 3))"
      ]
     },
     "execution_count": 95,
     "metadata": {},
     "output_type": "execute_result"
    }
   ],
   "source": [
    "#Check the last dataset\n",
    "off_df = df[df['label'] == 1]\n",
    "non_off_df = df[df['label'] == 0]\n",
    "off_df.shape, non_off_df.shape"
   ]
  },
  {
   "cell_type": "code",
   "execution_count": 6,
   "metadata": {},
   "outputs": [
    {
     "data": {
      "text/plain": [
       "((21046,), (5262,), (21046,), (5262,))"
      ]
     },
     "execution_count": 6,
     "metadata": {},
     "output_type": "execute_result"
    }
   ],
   "source": [
    "X_train, X_val, y_train, y_val = train_test_split(df['tweet'],\n",
    "                                                  df['label'],\n",
    "                                                  test_size=0.2,\n",
    "                                                  random_state=22, shuffle=True, stratify=df['label'])\n",
    "\n",
    "X_train.shape, X_val.shape, y_train.shape, y_val.shape"
   ]
  },
  {
   "cell_type": "code",
   "execution_count": 7,
   "metadata": {},
   "outputs": [
    {
     "name": "stderr",
     "output_type": "stream",
     "text": [
      "2023-10-09 12:58:11.161917: I tensorflow/compiler/xla/stream_executor/cuda/cuda_gpu_executor.cc:894] successful NUMA node read from SysFS had negative value (-1), but there must be at least one NUMA node, so returning NUMA node zero. See more at https://github.com/torvalds/linux/blob/v6.0/Documentation/ABI/testing/sysfs-bus-pci#L344-L355\n",
      "2023-10-09 12:58:11.162148: I tensorflow/compiler/xla/stream_executor/cuda/cuda_gpu_executor.cc:894] successful NUMA node read from SysFS had negative value (-1), but there must be at least one NUMA node, so returning NUMA node zero. See more at https://github.com/torvalds/linux/blob/v6.0/Documentation/ABI/testing/sysfs-bus-pci#L344-L355\n",
      "2023-10-09 12:58:11.162223: I tensorflow/compiler/xla/stream_executor/cuda/cuda_gpu_executor.cc:894] successful NUMA node read from SysFS had negative value (-1), but there must be at least one NUMA node, so returning NUMA node zero. See more at https://github.com/torvalds/linux/blob/v6.0/Documentation/ABI/testing/sysfs-bus-pci#L344-L355\n",
      "2023-10-09 12:58:11.162330: I tensorflow/compiler/xla/stream_executor/cuda/cuda_gpu_executor.cc:894] successful NUMA node read from SysFS had negative value (-1), but there must be at least one NUMA node, so returning NUMA node zero. See more at https://github.com/torvalds/linux/blob/v6.0/Documentation/ABI/testing/sysfs-bus-pci#L344-L355\n",
      "2023-10-09 12:58:11.162406: I tensorflow/compiler/xla/stream_executor/cuda/cuda_gpu_executor.cc:894] successful NUMA node read from SysFS had negative value (-1), but there must be at least one NUMA node, so returning NUMA node zero. See more at https://github.com/torvalds/linux/blob/v6.0/Documentation/ABI/testing/sysfs-bus-pci#L344-L355\n",
      "2023-10-09 12:58:11.162464: I tensorflow/core/common_runtime/gpu/gpu_device.cc:1886] Created device /job:localhost/replica:0/task:0/device:GPU:0 with 2284 MB memory:  -> device: 0, name: NVIDIA GeForce RTX 3050 Laptop GPU, pci bus id: 0000:01:00.0, compute capability: 8.6\n"
     ]
    }
   ],
   "source": [
    "# Load the bert encoder model\n",
    "bert_preprocess = hub.load(preprocess_url)\n",
    "bert_encoder = hub.KerasLayer(encoder_url)"
   ]
  },
  {
   "cell_type": "code",
   "execution_count": 20,
   "metadata": {},
   "outputs": [],
   "source": [
    "# Defining the model\n",
    "def bert_based_model(dropout_rate=0.1):\n",
    "    # Bert layers\n",
    "    input_text = tf.keras.layers.Input(shape=(), dtype=tf.string, name='inputs')\n",
    "\n",
    "    # Create a KerasLayer for tokenization\n",
    "    tokenize = hub.KerasLayer(bert_preprocess.tokenize)\n",
    "    tokenized_inputs = tokenize(input_text)\n",
    "\n",
    "    tokenized_inputs.shape\n",
    "\n",
    "    # Pack input sequences for the Transformer encoder (if needed)\n",
    "    seq_length = 128  \n",
    "    bert_pack_inputs = hub.KerasLayer(\n",
    "        bert_preprocess.bert_pack_inputs,\n",
    "        arguments=dict(seq_length=seq_length)) \n",
    "\n",
    "    encoder_inputs = bert_pack_inputs([tokenized_inputs])\n",
    "    outputs = bert_encoder(encoder_inputs)\n",
    "\n",
    "    # Neural network layers\n",
    "    layer = tf.keras.layers.Dropout(dropout_rate)(outputs[\"pooled_output\"])  # Dropout layer\n",
    "    layer = tf.keras.layers.Dense(1, activation=\"relu\")(layer)\n",
    "    layer = tf.keras.layers.Dropout(dropout_rate)(layer)\n",
    "\n",
    "    # Output layer for binary classification\n",
    "    output = tf.keras.layers.Dense(1, activation=\"sigmoid\", name=\"output\")(layer)\n",
    "\n",
    "    # Use inputs and outputs to construct a final model\n",
    "    model = tf.keras.Model(inputs=[input_text ], outputs = [output])\n",
    "    return model\n",
    "model = bert_based_model()\n"
   ]
  },
  {
   "cell_type": "code",
   "execution_count": 21,
   "metadata": {},
   "outputs": [
    {
     "name": "stdout",
     "output_type": "stream",
     "text": [
      "Model: \"model_1\"\n",
      "__________________________________________________________________________________________________\n",
      " Layer (type)                Output Shape                 Param #   Connected to                  \n",
      "==================================================================================================\n",
      " inputs (InputLayer)         [(None,)]                    0         []                            \n",
      "                                                                                                  \n",
      " keras_layer_5 (KerasLayer)  (None, None, None)           0         ['inputs[0][0]']              \n",
      "                                                                                                  \n",
      " keras_layer_6 (KerasLayer)  {'input_mask': (None, 128)   0         ['keras_layer_5[0][0]']       \n",
      "                             , 'input_type_ids': (None,                                           \n",
      "                              128),                                                               \n",
      "                              'input_word_ids': (None,                                            \n",
      "                             128)}                                                                \n",
      "                                                                                                  \n",
      " keras_layer (KerasLayer)    {'pooled_output': (None, 7   1778534   ['keras_layer_6[0][0]',       \n",
      "                             68),                         41         'keras_layer_6[0][1]',       \n",
      "                              'default': (None, 768),                'keras_layer_6[0][2]']       \n",
      "                              'encoder_outputs': [(None                                           \n",
      "                             , 128, 768),                                                         \n",
      "                              (None, 128, 768),                                                   \n",
      "                              (None, 128, 768),                                                   \n",
      "                              (None, 128, 768),                                                   \n",
      "                              (None, 128, 768),                                                   \n",
      "                              (None, 128, 768),                                                   \n",
      "                              (None, 128, 768),                                                   \n",
      "                              (None, 128, 768),                                                   \n",
      "                              (None, 128, 768),                                                   \n",
      "                              (None, 128, 768),                                                   \n",
      "                              (None, 128, 768),                                                   \n",
      "                              (None, 128, 768)],                                                  \n",
      "                              'sequence_output': (None,                                           \n",
      "                              128, 768)}                                                          \n",
      "                                                                                                  \n",
      " dropout_2 (Dropout)         (None, 768)                  0         ['keras_layer[2][13]']        \n",
      "                                                                                                  \n",
      " dense_1 (Dense)             (None, 1)                    769       ['dropout_2[0][0]']           \n",
      "                                                                                                  \n",
      " dropout_3 (Dropout)         (None, 1)                    0         ['dense_1[0][0]']             \n",
      "                                                                                                  \n",
      " output (Dense)              (None, 1)                    2         ['dropout_3[0][0]']           \n",
      "                                                                                                  \n",
      "==================================================================================================\n",
      "Total params: 177854212 (678.46 MB)\n",
      "Trainable params: 771 (3.01 KB)\n",
      "Non-trainable params: 177853441 (678.46 MB)\n",
      "__________________________________________________________________________________________________\n"
     ]
    }
   ],
   "source": [
    "model.summary()"
   ]
  },
  {
   "cell_type": "code",
   "execution_count": 22,
   "metadata": {},
   "outputs": [],
   "source": [
    "import os\n",
    "checkpoint_dir = \"checkpoints/checkpoints_mul/sk_checkpoint\"\n",
    "\n",
    "# creates the folder if not exist\n",
    "if not os.path.exists(checkpoint_dir):\n",
    "    os.makedirs(checkpoint_dir, mode = 0o777)\n",
    "\n",
    "checkpoint_file_format = os.path.join(checkpoint_dir, \"model_epoch_{epoch:02d}--loss-{loss:.4f}.h5\")\n",
    "\n",
    "# Create a ModelCheckpoint callback\n",
    "model_checkpoint_callback = tf.keras.callbacks.ModelCheckpoint(\n",
    "    filepath=checkpoint_file_format,\n",
    "    save_weights_only=True,  # Save only the model's weights\n",
    "    save_best_only=True,     # Save the best one\n",
    "    monitor=\"loss\",          # Monitor loss\n",
    "    mode=\"auto\",             # Auto-detect whether to minimize or maximize the monitored metric\n",
    "    verbose=1)               # Show progress during training\n",
    "\n",
    "\n",
    "#Compile the model\n",
    "METRICS = [\n",
    "      tf.keras.metrics.BinaryAccuracy(name='accuracy'),\n",
    "      tf.keras.metrics.Precision(name='precision'),\n",
    "      tf.keras.metrics.Recall(name='recall')\n",
    "]\n",
    "\n",
    "# Learning rate scheduling\n",
    "lr_schedule = tf.keras.optimizers.schedules.ExponentialDecay(\n",
    "    initial_learning_rate=1e-3,\n",
    "    decay_steps=1000,\n",
    "    decay_rate=0.9\n",
    ")\n",
    "\n",
    "model.compile(optimizer=tf.keras.optimizers.Adam(learning_rate=1e-3),\n",
    "              loss='binary_crossentropy',\n",
    "              metrics=METRICS)"
   ]
  },
  {
   "cell_type": "code",
   "execution_count": 23,
   "metadata": {},
   "outputs": [
    {
     "name": "stdout",
     "output_type": "stream",
     "text": [
      "Epoch 1/10\n",
      "658/658 [==============================] - ETA: 0s - loss: 0.6738 - accuracy: 0.5995 - precision: 0.5864 - recall: 0.6762\n",
      "Epoch 1: loss improved from inf to 0.67376, saving model to checkpoints/checkpoints_mul/sk_checkpoint/model_epoch_01--loss-0.6738.h5\n",
      "658/658 [==============================] - 231s 348ms/step - loss: 0.6738 - accuracy: 0.5995 - precision: 0.5864 - recall: 0.6762\n",
      "Epoch 2/10\n",
      "658/658 [==============================] - ETA: 0s - loss: 0.6414 - accuracy: 0.6630 - precision: 0.6403 - recall: 0.7441\n",
      "Epoch 2: loss improved from 0.67376 to 0.64143, saving model to checkpoints/checkpoints_mul/sk_checkpoint/model_epoch_02--loss-0.6414.h5\n",
      "658/658 [==============================] - 229s 348ms/step - loss: 0.6414 - accuracy: 0.6630 - precision: 0.6403 - recall: 0.7441\n",
      "Epoch 3/10\n",
      "658/658 [==============================] - ETA: 0s - loss: 0.6212 - accuracy: 0.6825 - precision: 0.6629 - recall: 0.7429\n",
      "Epoch 3: loss improved from 0.64143 to 0.62121, saving model to checkpoints/checkpoints_mul/sk_checkpoint/model_epoch_03--loss-0.6212.h5\n",
      "658/658 [==============================] - 229s 349ms/step - loss: 0.6212 - accuracy: 0.6825 - precision: 0.6629 - recall: 0.7429\n",
      "Epoch 4/10\n",
      "658/658 [==============================] - ETA: 0s - loss: 0.6100 - accuracy: 0.6892 - precision: 0.6706 - recall: 0.7442\n",
      "Epoch 4: loss improved from 0.62121 to 0.61003, saving model to checkpoints/checkpoints_mul/sk_checkpoint/model_epoch_04--loss-0.6100.h5\n",
      "658/658 [==============================] - 230s 349ms/step - loss: 0.6100 - accuracy: 0.6892 - precision: 0.6706 - recall: 0.7442\n",
      "Epoch 5/10\n",
      "658/658 [==============================] - ETA: 0s - loss: 0.6065 - accuracy: 0.6897 - precision: 0.6744 - recall: 0.7337\n",
      "Epoch 5: loss improved from 0.61003 to 0.60646, saving model to checkpoints/checkpoints_mul/sk_checkpoint/model_epoch_05--loss-0.6065.h5\n",
      "658/658 [==============================] - 230s 349ms/step - loss: 0.6065 - accuracy: 0.6897 - precision: 0.6744 - recall: 0.7337\n",
      "Epoch 6/10\n",
      "658/658 [==============================] - ETA: 0s - loss: 0.6007 - accuracy: 0.6960 - precision: 0.6805 - recall: 0.7393\n",
      "Epoch 6: loss improved from 0.60646 to 0.60073, saving model to checkpoints/checkpoints_mul/sk_checkpoint/model_epoch_06--loss-0.6007.h5\n",
      "658/658 [==============================] - 230s 349ms/step - loss: 0.6007 - accuracy: 0.6960 - precision: 0.6805 - recall: 0.7393\n",
      "Epoch 7/10\n",
      "658/658 [==============================] - ETA: 0s - loss: 0.5979 - accuracy: 0.6948 - precision: 0.6799 - recall: 0.7364\n",
      "Epoch 7: loss improved from 0.60073 to 0.59794, saving model to checkpoints/checkpoints_mul/sk_checkpoint/model_epoch_07--loss-0.5979.h5\n",
      "658/658 [==============================] - 230s 349ms/step - loss: 0.5979 - accuracy: 0.6948 - precision: 0.6799 - recall: 0.7364\n",
      "Epoch 8/10\n",
      "658/658 [==============================] - ETA: 0s - loss: 0.5979 - accuracy: 0.6938 - precision: 0.6815 - recall: 0.7280\n",
      "Epoch 8: loss improved from 0.59794 to 0.59789, saving model to checkpoints/checkpoints_mul/sk_checkpoint/model_epoch_08--loss-0.5979.h5\n",
      "658/658 [==============================] - 230s 349ms/step - loss: 0.5979 - accuracy: 0.6938 - precision: 0.6815 - recall: 0.7280\n",
      "Epoch 9/10\n",
      "658/658 [==============================] - ETA: 0s - loss: 0.5946 - accuracy: 0.6968 - precision: 0.6824 - recall: 0.7366\n",
      "Epoch 9: loss improved from 0.59789 to 0.59457, saving model to checkpoints/checkpoints_mul/sk_checkpoint/model_epoch_09--loss-0.5946.h5\n",
      "658/658 [==============================] - 230s 349ms/step - loss: 0.5946 - accuracy: 0.6968 - precision: 0.6824 - recall: 0.7366\n",
      "Epoch 10/10\n",
      "658/658 [==============================] - ETA: 0s - loss: 0.5950 - accuracy: 0.7003 - precision: 0.6882 - recall: 0.7328\n",
      "Epoch 10: loss did not improve from 0.59457\n",
      "658/658 [==============================] - 229s 348ms/step - loss: 0.5950 - accuracy: 0.7003 - precision: 0.6882 - recall: 0.7328\n"
     ]
    },
    {
     "data": {
      "text/plain": [
       "<keras.src.callbacks.History at 0x7f5ae0380280>"
      ]
     },
     "execution_count": 23,
     "metadata": {},
     "output_type": "execute_result"
    }
   ],
   "source": [
    "model.fit(X_train, y_train, epochs=10, batch_size=32, callbacks=[model_checkpoint_callback] )"
   ]
  },
  {
   "cell_type": "code",
   "execution_count": 24,
   "metadata": {},
   "outputs": [
    {
     "name": "stdout",
     "output_type": "stream",
     "text": [
      "165/165 [==============================] - 57s 340ms/step - loss: 0.5661 - accuracy: 0.7166 - precision: 0.7054 - recall: 0.7443\n"
     ]
    },
    {
     "data": {
      "text/plain": [
       "[0.566066324710846, 0.7166476845741272, 0.7054375410079956, 0.744300901889801]"
      ]
     },
     "execution_count": 24,
     "metadata": {},
     "output_type": "execute_result"
    }
   ],
   "source": [
    "model.evaluate(X_val, y_val)"
   ]
  },
  {
   "cell_type": "code",
   "execution_count": 25,
   "metadata": {},
   "outputs": [
    {
     "name": "stdout",
     "output_type": "stream",
     "text": [
      "165/165 [==============================] - 56s 340ms/step\n"
     ]
    }
   ],
   "source": [
    "y_predicted = model.predict(X_val)\n",
    "y_predicted = y_predicted.flatten()"
   ]
  },
  {
   "cell_type": "code",
   "execution_count": 30,
   "metadata": {},
   "outputs": [
    {
     "data": {
      "text/plain": [
       "array([[1812,  818],\n",
       "       [ 673, 1959]])"
      ]
     },
     "execution_count": 30,
     "metadata": {},
     "output_type": "execute_result"
    }
   ],
   "source": [
    "from sklearn.metrics import confusion_matrix, classification_report\n",
    "y_predicted = np.where(y_predicted > 0.5, 1, 0)\n",
    "cm = confusion_matrix(y_val, y_predicted)\n",
    "cm"
   ]
  },
  {
   "cell_type": "code",
   "execution_count": 27,
   "metadata": {},
   "outputs": [
    {
     "name": "stdout",
     "output_type": "stream",
     "text": [
      "              precision    recall  f1-score   support\n",
      "\n",
      "           0       0.73      0.69      0.71      2630\n",
      "           1       0.71      0.74      0.72      2632\n",
      "\n",
      "    accuracy                           0.72      5262\n",
      "   macro avg       0.72      0.72      0.72      5262\n",
      "weighted avg       0.72      0.72      0.72      5262\n",
      "\n"
     ]
    }
   ],
   "source": [
    "report = classification_report(y_val, y_predicted)\n",
    "print(report)"
   ]
  },
  {
   "cell_type": "code",
   "execution_count": 28,
   "metadata": {},
   "outputs": [
    {
     "data": {
      "image/png": "[encoded data removed]",
      "text/plain": [
       "<Figure size 640x480 with 2 Axes>"
      ]
     },
     "metadata": {},
     "output_type": "display_data"
    }
   ],
   "source": [
    "import matplotlib.pyplot as plt\n",
    "# Create a figure and axis\n",
    "fig, ax = plt.subplots()\n",
    "\n",
    "# Display the confusion matrix as a table\n",
    "cax = ax.matshow(cm, cmap='Blues')\n",
    "\n",
    "# Remove x-axis and y-axis ticks\n",
    "ax.set_xticks([])\n",
    "ax.set_yticks([])\n",
    "\n",
    "# Set axis labels\n",
    "plt.xlabel('Predicted')\n",
    "plt.ylabel('Actual')\n",
    "\n",
    "# Add a colorbar\n",
    "plt.colorbar(cax)\n",
    "\n",
    "# Add labels with conditional font color\n",
    "for i in range(2):\n",
    "    for j in range(2):\n",
    "        cell_value = cm[i][j]\n",
    "        if i == 0 and j == 1:\n",
    "            text_color = 'black'  # Change font color to black for [0][1]\n",
    "        elif i == 1 and j == 0:\n",
    "            text_color = 'black'  # Change font color to black for [1][0]\n",
    "        else:\n",
    "            text_color = 'white'  # Default font color (white)\n",
    "        plt.text(j, i, str(cell_value), va='center', ha='center', fontsize=14, color=text_color)\n",
    "\n",
    "# Show the plot\n",
    "plt.show()"
   ]
  },
  {
   "cell_type": "code",
   "execution_count": 29,
   "metadata": {},
   "outputs": [
    {
     "name": "stdout",
     "output_type": "stream",
     "text": [
      "1/1 [==============================] - 0s 471ms/step\n"
     ]
    },
    {
     "data": {
      "text/plain": [
       "array([[0.2351198],\n",
       "       [0.2351198],\n",
       "       [0.2351198],\n",
       "       [0.5874944],\n",
       "       [0.4204124]], dtype=float32)"
      ]
     },
     "execution_count": 29,
     "metadata": {},
     "output_type": "execute_result"
    }
   ],
   "source": [
    "slovak_sentences = [\n",
    "    \"Dnes je krásny slnečný deň.\",\n",
    "    \"Včera som čítal knihu v parku.\",\n",
    "    \"Obľubujem dlhé prechádzky v prírode.\",\n",
    "    \"toto je hlúpa lekcia\",\n",
    "    \"nenávidím ťa vidieť plakať\"\n",
    "]\n",
    "model.predict(slovak_sentences)"
   ]
  },
  {
   "cell_type": "code",
   "execution_count": null,
   "metadata": {},
   "outputs": [],
   "source": []
  }
 ],
 "metadata": {
  "kernelspec": {
   "display_name": "tf",
   "language": "python",
   "name": "python3"
  },
  "language_info": {
   "codemirror_mode": {
    "name": "ipython",
    "version": 3
   },
   "file_extension": ".py",
   "mimetype": "text/x-python",
   "name": "python",
   "nbconvert_exporter": "python",
   "pygments_lexer": "ipython3",
   "version": "3.10.13"
  },
  "orig_nbformat": 4
 },
 "nbformat": 4,
 "nbformat_minor": 2
}
