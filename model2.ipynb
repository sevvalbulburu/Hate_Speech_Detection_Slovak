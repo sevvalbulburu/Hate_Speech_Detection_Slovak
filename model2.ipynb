{
 "cells": [
  {
   "cell_type": "code",
   "execution_count": 2,
   "metadata": {},
   "outputs": [
    {
     "name": "stderr",
     "output_type": "stream",
     "text": [
      "2023-10-10 15:28:48.634017: I tensorflow/core/util/port.cc:111] oneDNN custom operations are on. You may see slightly different numerical results due to floating-point round-off errors from different computation orders. To turn them off, set the environment variable `TF_ENABLE_ONEDNN_OPTS=0`.\n",
      "2023-10-10 15:28:48.659942: E tensorflow/compiler/xla/stream_executor/cuda/cuda_dnn.cc:9342] Unable to register cuDNN factory: Attempting to register factory for plugin cuDNN when one has already been registered\n",
      "2023-10-10 15:28:48.659969: E tensorflow/compiler/xla/stream_executor/cuda/cuda_fft.cc:609] Unable to register cuFFT factory: Attempting to register factory for plugin cuFFT when one has already been registered\n",
      "2023-10-10 15:28:48.659985: E tensorflow/compiler/xla/stream_executor/cuda/cuda_blas.cc:1518] Unable to register cuBLAS factory: Attempting to register factory for plugin cuBLAS when one has already been registered\n",
      "2023-10-10 15:28:48.664788: I tensorflow/core/platform/cpu_feature_guard.cc:182] This TensorFlow binary is optimized to use available CPU instructions in performance-critical operations.\n",
      "To enable the following instructions: AVX2 AVX512F AVX512_VNNI FMA, in other operations, rebuild TensorFlow with the appropriate compiler flags.\n",
      "2023-10-10 15:28:49.384596: W tensorflow/compiler/tf2tensorrt/utils/py_utils.cc:38] TF-TRT Warning: Could not find TensorRT\n"
     ]
    }
   ],
   "source": [
    "import tensorflow_hub as hub\n",
    "import tensorflow_text as text\n",
    "import tensorflow as tf\n",
    "import pandas as pd\n",
    "from sklearn.model_selection import train_test_split\n",
    "from sklearn.utils import resample\n",
    "import numpy as np\n",
    "from sklearn.metrics import confusion_matrix, classification_report"
   ]
  },
  {
   "cell_type": "code",
   "execution_count": 3,
   "metadata": {},
   "outputs": [
    {
     "name": "stdout",
     "output_type": "stream",
     "text": [
      "GPU devices found: [PhysicalDevice(name='/physical_device:GPU:0', device_type='GPU')]\n",
      "Current GPU device: /device:GPU:0\n",
      "TensorFlow is built with CUDA support (GPU acceleration).\n",
      "[PhysicalDevice(name='/physical_device:GPU:0', device_type='GPU')]\n"
     ]
    },
    {
     "name": "stderr",
     "output_type": "stream",
     "text": [
      "2023-10-10 15:28:51.375344: I tensorflow/compiler/xla/stream_executor/cuda/cuda_gpu_executor.cc:894] successful NUMA node read from SysFS had negative value (-1), but there must be at least one NUMA node, so returning NUMA node zero. See more at https://github.com/torvalds/linux/blob/v6.0/Documentation/ABI/testing/sysfs-bus-pci#L344-L355\n",
      "2023-10-10 15:28:51.397168: I tensorflow/compiler/xla/stream_executor/cuda/cuda_gpu_executor.cc:894] successful NUMA node read from SysFS had negative value (-1), but there must be at least one NUMA node, so returning NUMA node zero. See more at https://github.com/torvalds/linux/blob/v6.0/Documentation/ABI/testing/sysfs-bus-pci#L344-L355\n",
      "2023-10-10 15:28:51.397362: I tensorflow/compiler/xla/stream_executor/cuda/cuda_gpu_executor.cc:894] successful NUMA node read from SysFS had negative value (-1), but there must be at least one NUMA node, so returning NUMA node zero. See more at https://github.com/torvalds/linux/blob/v6.0/Documentation/ABI/testing/sysfs-bus-pci#L344-L355\n",
      "2023-10-10 15:28:51.399395: I tensorflow/compiler/xla/stream_executor/cuda/cuda_gpu_executor.cc:894] successful NUMA node read from SysFS had negative value (-1), but there must be at least one NUMA node, so returning NUMA node zero. See more at https://github.com/torvalds/linux/blob/v6.0/Documentation/ABI/testing/sysfs-bus-pci#L344-L355\n",
      "2023-10-10 15:28:51.399797: I tensorflow/compiler/xla/stream_executor/cuda/cuda_gpu_executor.cc:894] successful NUMA node read from SysFS had negative value (-1), but there must be at least one NUMA node, so returning NUMA node zero. See more at https://github.com/torvalds/linux/blob/v6.0/Documentation/ABI/testing/sysfs-bus-pci#L344-L355\n",
      "2023-10-10 15:28:51.399951: I tensorflow/compiler/xla/stream_executor/cuda/cuda_gpu_executor.cc:894] successful NUMA node read from SysFS had negative value (-1), but there must be at least one NUMA node, so returning NUMA node zero. See more at https://github.com/torvalds/linux/blob/v6.0/Documentation/ABI/testing/sysfs-bus-pci#L344-L355\n",
      "2023-10-10 15:28:51.485062: I tensorflow/compiler/xla/stream_executor/cuda/cuda_gpu_executor.cc:894] successful NUMA node read from SysFS had negative value (-1), but there must be at least one NUMA node, so returning NUMA node zero. See more at https://github.com/torvalds/linux/blob/v6.0/Documentation/ABI/testing/sysfs-bus-pci#L344-L355\n",
      "2023-10-10 15:28:51.485215: I tensorflow/compiler/xla/stream_executor/cuda/cuda_gpu_executor.cc:894] successful NUMA node read from SysFS had negative value (-1), but there must be at least one NUMA node, so returning NUMA node zero. See more at https://github.com/torvalds/linux/blob/v6.0/Documentation/ABI/testing/sysfs-bus-pci#L344-L355\n",
      "2023-10-10 15:28:51.485326: I tensorflow/compiler/xla/stream_executor/cuda/cuda_gpu_executor.cc:894] successful NUMA node read from SysFS had negative value (-1), but there must be at least one NUMA node, so returning NUMA node zero. See more at https://github.com/torvalds/linux/blob/v6.0/Documentation/ABI/testing/sysfs-bus-pci#L344-L355\n",
      "2023-10-10 15:28:51.485408: I tensorflow/core/common_runtime/gpu/gpu_device.cc:1886] Created device /device:GPU:0 with 154 MB memory:  -> device: 0, name: NVIDIA GeForce RTX 3050 Laptop GPU, pci bus id: 0000:01:00.0, compute capability: 8.6\n"
     ]
    }
   ],
   "source": [
    "# Check if TensorFlow can access any GPU devices\n",
    "gpu_devices = tf.config.list_physical_devices('GPU')\n",
    "\n",
    "if len(gpu_devices) == 0:\n",
    "    print(\"No GPU devices found.\")\n",
    "else:\n",
    "    print(f\"GPU devices found: {gpu_devices}\")\n",
    "\n",
    "# Check which GPU device is currently being used (if any)\n",
    "current_gpu_device = tf.test.gpu_device_name()\n",
    "if current_gpu_device:\n",
    "    print(f\"Current GPU device: {current_gpu_device}\")\n",
    "else:\n",
    "    print(\"No GPU device is currently being used.\")\n",
    "\n",
    "# Check if GPU acceleration is available for TensorFlow\n",
    "if tf.test.is_built_with_cuda():\n",
    "    print(\"TensorFlow is built with CUDA support (GPU acceleration).\")\n",
    "else:\n",
    "    print(\"TensorFlow is not built with CUDA support (GPU acceleration).\")\n",
    "\n",
    "    \n",
    "print(tf.config.list_physical_devices('GPU'))"
   ]
  },
  {
   "cell_type": "code",
   "execution_count": 4,
   "metadata": {},
   "outputs": [],
   "source": [
    "preprocess_url = \"https://tfhub.dev/tensorflow/bert_multi_cased_preprocess/3\"\n",
    "encoder_url = \"https://tfhub.dev/tensorflow/bert_multi_cased_L-12_H-768_A-12/4\" "
   ]
  },
  {
   "cell_type": "code",
   "execution_count": 5,
   "metadata": {},
   "outputs": [
    {
     "data": {
      "text/html": [
       "<div>\n",
       "<style scoped>\n",
       "    .dataframe tbody tr th:only-of-type {\n",
       "        vertical-align: middle;\n",
       "    }\n",
       "\n",
       "    .dataframe tbody tr th {\n",
       "        vertical-align: top;\n",
       "    }\n",
       "\n",
       "    .dataframe thead th {\n",
       "        text-align: right;\n",
       "    }\n",
       "</style>\n",
       "<table border=\"1\" class=\"dataframe\">\n",
       "  <thead>\n",
       "    <tr style=\"text-align: right;\">\n",
       "      <th></th>\n",
       "      <th>tweet</th>\n",
       "      <th>label</th>\n",
       "    </tr>\n",
       "  </thead>\n",
       "  <tbody>\n",
       "    <tr>\n",
       "      <th>0</th>\n",
       "      <td>Marek Koolily hovorí s jasnejšími a faktami.</td>\n",
       "      <td>0</td>\n",
       "    </tr>\n",
       "    <tr>\n",
       "      <th>1</th>\n",
       "      <td>Vyhýbal som sa parlamentným voľbám už veľmi dlho</td>\n",
       "      <td>0</td>\n",
       "    </tr>\n",
       "    <tr>\n",
       "      <th>2</th>\n",
       "      <td>Tak</td>\n",
       "      <td>0</td>\n",
       "    </tr>\n",
       "    <tr>\n",
       "      <th>3</th>\n",
       "      <td>Nech vás Boh žehná za prezidenta Zuzana Capputová</td>\n",
       "      <td>0</td>\n",
       "    </tr>\n",
       "    <tr>\n",
       "      <th>4</th>\n",
       "      <td>Je to tiež osoba na správnom mieste.Ľudia nás ...</td>\n",
       "      <td>0</td>\n",
       "    </tr>\n",
       "  </tbody>\n",
       "</table>\n",
       "</div>"
      ],
      "text/plain": [
       "                                               tweet  label\n",
       "0       Marek Koolily hovorí s jasnejšími a faktami.      0\n",
       "1   Vyhýbal som sa parlamentným voľbám už veľmi dlho      0\n",
       "2                                                Tak      0\n",
       "3  Nech vás Boh žehná za prezidenta Zuzana Capputová      0\n",
       "4  Je to tiež osoba na správnom mieste.Ľudia nás ...      0"
      ]
     },
     "execution_count": 5,
     "metadata": {},
     "output_type": "execute_result"
    }
   ],
   "source": [
    "df = pd.read_csv('sk_dataset/slovak_data4_preprocessed.csv')\n",
    "df.head()"
   ]
  },
  {
   "cell_type": "code",
   "execution_count": 7,
   "metadata": {},
   "outputs": [
    {
     "data": {
      "text/plain": [
       "((13158, 2), (13150, 2))"
      ]
     },
     "execution_count": 7,
     "metadata": {},
     "output_type": "execute_result"
    }
   ],
   "source": [
    "#Split the train data according to their class\n",
    "off_df = df[df['label'] == 1]\n",
    "non_off_df = df[df['label'] == 0]\n",
    "off_df.shape, non_off_df.shape"
   ]
  },
  {
   "cell_type": "code",
   "execution_count": 8,
   "metadata": {},
   "outputs": [
    {
     "data": {
      "text/plain": [
       "((21046,), (5262,), (21046,), (5262,))"
      ]
     },
     "execution_count": 8,
     "metadata": {},
     "output_type": "execute_result"
    }
   ],
   "source": [
    "df = df.sample(frac=1, random_state=42)\n",
    "\n",
    "X_train, X_val, y_train, y_val = train_test_split(df['tweet'],\n",
    "                                                  df['label'],\n",
    "                                                  test_size=0.2,\n",
    "                                                  random_state=22, shuffle=True, stratify=df['label'])\n",
    "\n",
    "X_train.shape, X_val.shape, y_train.shape, y_val.shape"
   ]
  },
  {
   "cell_type": "code",
   "execution_count": null,
   "metadata": {},
   "outputs": [],
   "source": [
    "# Load the bert encoder model\n",
    "bert_preprocess = hub.load(preprocess_url)\n",
    "bert_encoder = hub.KerasLayer(encoder_url)"
   ]
  },
  {
   "cell_type": "code",
   "execution_count": 10,
   "metadata": {},
   "outputs": [],
   "source": [
    "# Defining the model\n",
    "def bert_based_model(dropout_rate=0.1):\n",
    "    # Bert layers\n",
    "    input_text = tf.keras.layers.Input(shape=(), dtype=tf.string, name='inputs')\n",
    "\n",
    "    # Create a KerasLayer for tokenization\n",
    "    tokenize = hub.KerasLayer(bert_preprocess.tokenize)\n",
    "    tokenized_inputs = tokenize(input_text)\n",
    "\n",
    "    tokenized_inputs.shape\n",
    "\n",
    "    # Pack input sequences for the Transformer encoder (if needed)\n",
    "    seq_length = 128  \n",
    "    bert_pack_inputs = hub.KerasLayer(\n",
    "        bert_preprocess.bert_pack_inputs,\n",
    "        arguments=dict(seq_length=seq_length))  # Optional argument.\n",
    "\n",
    "    encoder_inputs = bert_pack_inputs([tokenized_inputs])\n",
    "    outputs = bert_encoder(encoder_inputs)\n",
    "\n",
    "    # Neural network layers\n",
    "    layer = tf.keras.layers.Dropout(dropout_rate)(outputs[\"pooled_output\"])  # Dropout layer\n",
    "    layer = tf.keras.layers.Dense(128, activation=\"relu\")(layer)\n",
    "  \n",
    "\n",
    "    layer = tf.keras.layers.Dropout(dropout_rate)(layer)  # Dropout layer\n",
    "    layer = tf.keras.layers.Dense(64, activation=\"relu\")(layer)\n",
    "\n",
    "    layer = tf.keras.layers.Dropout(dropout_rate)(layer)\n",
    "    layer = tf.keras.layers.Dense(32, activation=\"relu\")(layer)\n",
    "\n",
    "\n",
    "    layer = tf.keras.layers.Dropout(dropout_rate)(layer)\n",
    "\n",
    "    # Output layer for binary classification\n",
    "    output = tf.keras.layers.Dense(1, activation=\"sigmoid\", name=\"output\")(layer)\n",
    "\n",
    "    # Use inputs and outputs to construct a final model\n",
    "    model = tf.keras.Model(inputs=[input_text ], outputs = [output])\n",
    "    return model\n",
    "model = bert_based_model()\n"
   ]
  },
  {
   "cell_type": "code",
   "execution_count": 11,
   "metadata": {},
   "outputs": [
    {
     "name": "stdout",
     "output_type": "stream",
     "text": [
      "Model: \"model\"\n",
      "__________________________________________________________________________________________________\n",
      " Layer (type)                Output Shape                 Param #   Connected to                  \n",
      "==================================================================================================\n",
      " inputs (InputLayer)         [(None,)]                    0         []                            \n",
      "                                                                                                  \n",
      " keras_layer_1 (KerasLayer)  (None, None, None)           0         ['inputs[0][0]']              \n",
      "                                                                                                  \n",
      " keras_layer_2 (KerasLayer)  {'input_type_ids': (None,    0         ['keras_layer_1[0][0]']       \n",
      "                             128),                                                                \n",
      "                              'input_mask': (None, 128)                                           \n",
      "                             , 'input_word_ids': (None,                                           \n",
      "                              128)}                                                               \n",
      "                                                                                                  \n",
      " keras_layer (KerasLayer)    {'sequence_output': (None,   1778534   ['keras_layer_2[0][0]',       \n",
      "                              128, 768),                  41         'keras_layer_2[0][1]',       \n",
      "                              'default': (None, 768),                'keras_layer_2[0][2]']       \n",
      "                              'pooled_output': (None, 7                                           \n",
      "                             68),                                                                 \n",
      "                              'encoder_outputs': [(None                                           \n",
      "                             , 128, 768),                                                         \n",
      "                              (None, 128, 768),                                                   \n",
      "                              (None, 128, 768),                                                   \n",
      "                              (None, 128, 768),                                                   \n",
      "                              (None, 128, 768),                                                   \n",
      "                              (None, 128, 768),                                                   \n",
      "                              (None, 128, 768),                                                   \n",
      "                              (None, 128, 768),                                                   \n",
      "                              (None, 128, 768),                                                   \n",
      "                              (None, 128, 768),                                                   \n",
      "                              (None, 128, 768),                                                   \n",
      "                              (None, 128, 768)]}                                                  \n",
      "                                                                                                  \n",
      " dropout_1 (Dropout)         (None, 768)                  0         ['keras_layer[0][13]']        \n",
      "                                                                                                  \n",
      " dense_1 (Dense)             (None, 64)                   49216     ['dropout_1[0][0]']           \n",
      "                                                                                                  \n",
      " dropout_2 (Dropout)         (None, 64)                   0         ['dense_1[0][0]']             \n",
      "                                                                                                  \n",
      " dense_2 (Dense)             (None, 32)                   2080      ['dropout_2[0][0]']           \n",
      "                                                                                                  \n",
      " dropout_3 (Dropout)         (None, 32)                   0         ['dense_2[0][0]']             \n",
      "                                                                                                  \n",
      " output (Dense)              (None, 1)                    33        ['dropout_3[0][0]']           \n",
      "                                                                                                  \n",
      "==================================================================================================\n",
      "Total params: 177904770 (678.65 MB)\n",
      "Trainable params: 51329 (200.50 KB)\n",
      "Non-trainable params: 177853441 (678.46 MB)\n",
      "__________________________________________________________________________________________________\n"
     ]
    }
   ],
   "source": [
    "model.summary()"
   ]
  },
  {
   "cell_type": "code",
   "execution_count": 12,
   "metadata": {},
   "outputs": [],
   "source": [
    "import os\n",
    "checkpoint_dir = \"checkpoints/checkpoints_mul/sk_checkpoint3\"\n",
    "\n",
    "# creates the folder if not exist\n",
    "if not os.path.exists(checkpoint_dir):\n",
    "    os.makedirs(checkpoint_dir, mode = 0o777)\n",
    "\n",
    "checkpoint_file_format = os.path.join(checkpoint_dir, \"model_epoch_{epoch:02d}--loss-{loss:.4f}.h5\")\n",
    "\n",
    "# Create a ModelCheckpoint callback\n",
    "model_checkpoint_callback = tf.keras.callbacks.ModelCheckpoint(\n",
    "    filepath=checkpoint_file_format,\n",
    "    save_weights_only=True,  # Save only the model's weights\n",
    "    save_best_only=True,     # Save the best one\n",
    "    monitor=\"loss\",          # Monitor loss\n",
    "    mode=\"auto\",             # Auto-detect whether to minimize or maximize the monitored metric\n",
    "    verbose=1)               # Show progress during training\n",
    "\n",
    "\n",
    "#Compile the model\n",
    "METRICS = [\n",
    "      tf.keras.metrics.BinaryAccuracy(name='accuracy'),\n",
    "      tf.keras.metrics.Precision(name='precision'),\n",
    "      tf.keras.metrics.Recall(name='recall')\n",
    "]\n",
    "\n",
    "# Learning rate scheduling\n",
    "lr_schedule = tf.keras.optimizers.schedules.ExponentialDecay(\n",
    "    initial_learning_rate=1e-3,\n",
    "    decay_steps=1000,\n",
    "    decay_rate=0.9\n",
    ")\n",
    "\n",
    "model.compile(optimizer=tf.keras.optimizers.Adam(learning_rate=lr_schedule),\n",
    "              loss='binary_crossentropy',\n",
    "              metrics=METRICS)"
   ]
  },
  {
   "cell_type": "code",
   "execution_count": 13,
   "metadata": {},
   "outputs": [
    {
     "name": "stdout",
     "output_type": "stream",
     "text": [
      "Epoch 1/10\n"
     ]
    },
    {
     "name": "stderr",
     "output_type": "stream",
     "text": [
      "2023-10-09 14:40:44.220812: I tensorflow/compiler/xla/service/service.cc:168] XLA service 0x7f44e0331fc0 initialized for platform CUDA (this does not guarantee that XLA will be used). Devices:\n",
      "2023-10-09 14:40:44.220836: I tensorflow/compiler/xla/service/service.cc:176]   StreamExecutor device (0): NVIDIA GeForce RTX 3050 Laptop GPU, Compute Capability 8.6\n",
      "2023-10-09 14:40:44.224049: I tensorflow/compiler/mlir/tensorflow/utils/dump_mlir_util.cc:269] disabling MLIR crash reproducer, set env var `MLIR_CRASH_REPRODUCER_DIRECTORY` to enable.\n",
      "2023-10-09 14:40:44.233302: I tensorflow/compiler/xla/stream_executor/cuda/cuda_dnn.cc:442] Loaded cuDNN version 8600\n",
      "2023-10-09 14:40:44.289042: I ./tensorflow/compiler/jit/device_compiler.h:186] Compiled cluster using XLA!  This line is logged at most once for the lifetime of the process.\n"
     ]
    },
    {
     "name": "stdout",
     "output_type": "stream",
     "text": [
      "658/658 [==============================] - ETA: 0s - loss: 0.6035 - accuracy: 0.6583 - precision: 0.6372 - recall: 0.7355\n",
      "Epoch 1: loss improved from inf to 0.60351, saving model to checkpoints/checkpoints_mul/sk_checkpoint2/model_epoch_01--loss-0.6035.h5\n",
      "658/658 [==============================] - 234s 345ms/step - loss: 0.6035 - accuracy: 0.6583 - precision: 0.6372 - recall: 0.7355\n",
      "Epoch 2/10\n",
      "658/658 [==============================] - ETA: 0s - loss: 0.5416 - accuracy: 0.7092 - precision: 0.6575 - recall: 0.8737\n",
      "Epoch 2: loss improved from 0.60351 to 0.54156, saving model to checkpoints/checkpoints_mul/sk_checkpoint2/model_epoch_02--loss-0.5416.h5\n",
      "658/658 [==============================] - 229s 348ms/step - loss: 0.5416 - accuracy: 0.7092 - precision: 0.6575 - recall: 0.8737\n",
      "Epoch 3/10\n",
      "658/658 [==============================] - ETA: 0s - loss: 0.5313 - accuracy: 0.7175 - precision: 0.6605 - recall: 0.8952\n",
      "Epoch 3: loss improved from 0.54156 to 0.53128, saving model to checkpoints/checkpoints_mul/sk_checkpoint2/model_epoch_03--loss-0.5313.h5\n",
      "658/658 [==============================] - 230s 349ms/step - loss: 0.5313 - accuracy: 0.7175 - precision: 0.6605 - recall: 0.8952\n",
      "Epoch 4/10\n",
      "658/658 [==============================] - ETA: 0s - loss: 0.5236 - accuracy: 0.7180 - precision: 0.6606 - recall: 0.8971\n",
      "Epoch 4: loss improved from 0.53128 to 0.52364, saving model to checkpoints/checkpoints_mul/sk_checkpoint2/model_epoch_04--loss-0.5236.h5\n",
      "658/658 [==============================] - 230s 349ms/step - loss: 0.5236 - accuracy: 0.7180 - precision: 0.6606 - recall: 0.8971\n",
      "Epoch 5/10\n",
      "658/658 [==============================] - ETA: 0s - loss: 0.5233 - accuracy: 0.7181 - precision: 0.6608 - recall: 0.8969\n",
      "Epoch 5: loss improved from 0.52364 to 0.52332, saving model to checkpoints/checkpoints_mul/sk_checkpoint2/model_epoch_05--loss-0.5233.h5\n",
      "658/658 [==============================] - 230s 349ms/step - loss: 0.5233 - accuracy: 0.7181 - precision: 0.6608 - recall: 0.8969\n",
      "Epoch 6/10\n",
      "658/658 [==============================] - ETA: 0s - loss: 0.5182 - accuracy: 0.7203 - precision: 0.6631 - recall: 0.8958\n",
      "Epoch 6: loss improved from 0.52332 to 0.51820, saving model to checkpoints/checkpoints_mul/sk_checkpoint2/model_epoch_06--loss-0.5182.h5\n",
      "658/658 [==============================] - 230s 349ms/step - loss: 0.5182 - accuracy: 0.7203 - precision: 0.6631 - recall: 0.8958\n",
      "Epoch 7/10\n",
      "658/658 [==============================] - ETA: 0s - loss: 0.5122 - accuracy: 0.7237 - precision: 0.6644 - recall: 0.9045\n",
      "Epoch 7: loss improved from 0.51820 to 0.51224, saving model to checkpoints/checkpoints_mul/sk_checkpoint2/model_epoch_07--loss-0.5122.h5\n",
      "658/658 [==============================] - 230s 349ms/step - loss: 0.5122 - accuracy: 0.7237 - precision: 0.6644 - recall: 0.9045\n",
      "Epoch 8/10\n",
      "658/658 [==============================] - ETA: 0s - loss: 0.5122 - accuracy: 0.7230 - precision: 0.6635 - recall: 0.9051\n",
      "Epoch 8: loss improved from 0.51224 to 0.51218, saving model to checkpoints/checkpoints_mul/sk_checkpoint2/model_epoch_08--loss-0.5122.h5\n",
      "658/658 [==============================] - 230s 350ms/step - loss: 0.5122 - accuracy: 0.7230 - precision: 0.6635 - recall: 0.9051\n",
      "Epoch 9/10\n",
      "658/658 [==============================] - ETA: 0s - loss: 0.5110 - accuracy: 0.7260 - precision: 0.6685 - recall: 0.8968\n",
      "Epoch 9: loss improved from 0.51218 to 0.51095, saving model to checkpoints/checkpoints_mul/sk_checkpoint2/model_epoch_09--loss-0.5110.h5\n",
      "658/658 [==============================] - 230s 349ms/step - loss: 0.5110 - accuracy: 0.7260 - precision: 0.6685 - recall: 0.8968\n",
      "Epoch 10/10\n",
      "658/658 [==============================] - ETA: 0s - loss: 0.5091 - accuracy: 0.7264 - precision: 0.6687 - recall: 0.8975\n",
      "Epoch 10: loss improved from 0.51095 to 0.50907, saving model to checkpoints/checkpoints_mul/sk_checkpoint2/model_epoch_10--loss-0.5091.h5\n",
      "658/658 [==============================] - 229s 349ms/step - loss: 0.5091 - accuracy: 0.7264 - precision: 0.6687 - recall: 0.8975\n"
     ]
    },
    {
     "data": {
      "text/plain": [
       "<keras.src.callbacks.History at 0x7f4501673fa0>"
      ]
     },
     "execution_count": 13,
     "metadata": {},
     "output_type": "execute_result"
    }
   ],
   "source": [
    "model.fit(X_train, y_train, epochs=10, batch_size=32, callbacks=[model_checkpoint_callback] )"
   ]
  },
  {
   "cell_type": "code",
   "execution_count": 14,
   "metadata": {},
   "outputs": [
    {
     "name": "stdout",
     "output_type": "stream",
     "text": [
      "165/165 [==============================] - 57s 342ms/step - loss: 0.4929 - accuracy: 0.7376 - precision: 0.6675 - recall: 0.9472\n"
     ]
    },
    {
     "data": {
      "text/plain": [
       "[0.49288517236709595, 0.737552285194397, 0.66746985912323, 0.9471884369850159]"
      ]
     },
     "execution_count": 14,
     "metadata": {},
     "output_type": "execute_result"
    }
   ],
   "source": [
    "model.evaluate(X_val, y_val)"
   ]
  },
  {
   "cell_type": "code",
   "execution_count": 15,
   "metadata": {},
   "outputs": [
    {
     "name": "stdout",
     "output_type": "stream",
     "text": [
      "165/165 [==============================] - 56s 341ms/step\n"
     ]
    }
   ],
   "source": [
    "y_predicted = model.predict(X_val)\n",
    "y_predicted = y_predicted.flatten()"
   ]
  },
  {
   "cell_type": "code",
   "execution_count": 16,
   "metadata": {},
   "outputs": [
    {
     "data": {
      "text/plain": [
       "array([[1388, 1242],\n",
       "       [ 139, 2493]])"
      ]
     },
     "execution_count": 16,
     "metadata": {},
     "output_type": "execute_result"
    }
   ],
   "source": [
    "from sklearn.metrics import confusion_matrix, classification_report\n",
    "y_predicted = np.where(y_predicted > 0.5, 1, 0)\n",
    "cm = confusion_matrix(y_val, y_predicted)\n",
    "cm"
   ]
  },
  {
   "cell_type": "code",
   "execution_count": 17,
   "metadata": {},
   "outputs": [
    {
     "name": "stdout",
     "output_type": "stream",
     "text": [
      "              precision    recall  f1-score   support\n",
      "\n",
      "           0       0.91      0.53      0.67      2630\n",
      "           1       0.67      0.95      0.78      2632\n",
      "\n",
      "    accuracy                           0.74      5262\n",
      "   macro avg       0.79      0.74      0.73      5262\n",
      "weighted avg       0.79      0.74      0.73      5262\n",
      "\n"
     ]
    }
   ],
   "source": [
    "report = classification_report(y_val, y_predicted)\n",
    "print(report)"
   ]
  },
  {
   "cell_type": "code",
   "execution_count": 18,
   "metadata": {},
   "outputs": [
    {
     "data": {
      "image/png": "[encoded data removed]",
      "text/plain": [
       "<Figure size 640x480 with 2 Axes>"
      ]
     },
     "metadata": {},
     "output_type": "display_data"
    }
   ],
   "source": [
    "import matplotlib.pyplot as plt\n",
    "# Create a figure and axis\n",
    "fig, ax = plt.subplots()\n",
    "\n",
    "# Display the confusion matrix as a table\n",
    "cax = ax.matshow(cm, cmap='Blues')\n",
    "\n",
    "# Remove x-axis and y-axis ticks\n",
    "ax.set_xticks([])\n",
    "ax.set_yticks([])\n",
    "\n",
    "# Set axis labels\n",
    "plt.xlabel('Predicted')\n",
    "plt.ylabel('Actual')\n",
    "\n",
    "# Add a colorbar\n",
    "plt.colorbar(cax)\n",
    "\n",
    "# Add labels with conditional font color\n",
    "for i in range(2):\n",
    "    for j in range(2):\n",
    "        cell_value = cm[i][j]\n",
    "        if i == 0 and j == 1:\n",
    "            text_color = 'black'  # Change font color to black for [0][1]\n",
    "        elif i == 1 and j == 0:\n",
    "            text_color = 'black'  # Change font color to black for [1][0]\n",
    "        else:\n",
    "            text_color = 'white'  # Default font color (white)\n",
    "        plt.text(j, i, str(cell_value), va='center', ha='center', fontsize=14, color=text_color)\n",
    "\n",
    "# Show the plot\n",
    "plt.show()"
   ]
  },
  {
   "cell_type": "code",
   "execution_count": 22,
   "metadata": {},
   "outputs": [
    {
     "name": "stdout",
     "output_type": "stream",
     "text": [
      "1/1 [==============================] - 0s 42ms/step\n"
     ]
    },
    {
     "data": {
      "text/plain": [
       "array([[0.10118368],\n",
       "       [0.00829095],\n",
       "       [0.00211048],\n",
       "       [0.68574446],\n",
       "       [0.571252  ]], dtype=float32)"
      ]
     },
     "execution_count": 22,
     "metadata": {},
     "output_type": "execute_result"
    }
   ],
   "source": [
    "slovak_sentences = [\n",
    "    \"Dnes je krásny slnečný deň.\",\n",
    "    \"Včera som čítal knihu v parku.\",\n",
    "    \"Obľubujem dlhé prechádzky v prírode.\",\n",
    "    \"toto je hlúpa lekcia\",\n",
    "    \"nenávidím ťa vidieť plakať\"\n",
    "]\n",
    "model.predict(slovak_sentences)"
   ]
  },
  {
   "cell_type": "code",
   "execution_count": null,
   "metadata": {},
   "outputs": [],
   "source": []
  }
 ],
 "metadata": {
  "kernelspec": {
   "display_name": "tf",
   "language": "python",
   "name": "python3"
  },
  "language_info": {
   "codemirror_mode": {
    "name": "ipython",
    "version": 3
   },
   "file_extension": ".py",
   "mimetype": "text/x-python",
   "name": "python",
   "nbconvert_exporter": "python",
   "pygments_lexer": "ipython3",
   "version": "3.10.13"
  },
  "orig_nbformat": 4
 },
 "nbformat": 4,
 "nbformat_minor": 2
}
