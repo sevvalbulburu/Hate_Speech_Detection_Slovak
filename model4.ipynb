{
 "cells": [
  {
   "cell_type": "code",
   "execution_count": 1,
   "metadata": {},
   "outputs": [
    {
     "name": "stderr",
     "output_type": "stream",
     "text": [
      "2023-10-10 11:11:14.578140: I tensorflow/core/util/port.cc:111] oneDNN custom operations are on. You may see slightly different numerical results due to floating-point round-off errors from different computation orders. To turn them off, set the environment variable `TF_ENABLE_ONEDNN_OPTS=0`.\n",
      "2023-10-10 11:11:14.699412: E tensorflow/compiler/xla/stream_executor/cuda/cuda_dnn.cc:9342] Unable to register cuDNN factory: Attempting to register factory for plugin cuDNN when one has already been registered\n",
      "2023-10-10 11:11:14.699440: E tensorflow/compiler/xla/stream_executor/cuda/cuda_fft.cc:609] Unable to register cuFFT factory: Attempting to register factory for plugin cuFFT when one has already been registered\n",
      "2023-10-10 11:11:14.700021: E tensorflow/compiler/xla/stream_executor/cuda/cuda_blas.cc:1518] Unable to register cuBLAS factory: Attempting to register factory for plugin cuBLAS when one has already been registered\n",
      "2023-10-10 11:11:14.744550: I tensorflow/core/platform/cpu_feature_guard.cc:182] This TensorFlow binary is optimized to use available CPU instructions in performance-critical operations.\n",
      "To enable the following instructions: AVX2 AVX512F AVX512_VNNI FMA, in other operations, rebuild TensorFlow with the appropriate compiler flags.\n",
      "2023-10-10 11:11:15.627570: W tensorflow/compiler/tf2tensorrt/utils/py_utils.cc:38] TF-TRT Warning: Could not find TensorRT\n"
     ]
    }
   ],
   "source": [
    "import tensorflow_hub as hub\n",
    "import tensorflow_text as text\n",
    "import tensorflow as tf\n",
    "import pandas as pd\n",
    "from sklearn.model_selection import train_test_split\n",
    "from sklearn.utils import resample\n",
    "import numpy as np\n",
    "from sklearn.metrics import confusion_matrix, classification_report"
   ]
  },
  {
   "cell_type": "code",
   "execution_count": 2,
   "metadata": {},
   "outputs": [
    {
     "name": "stdout",
     "output_type": "stream",
     "text": [
      "GPU devices found: [PhysicalDevice(name='/physical_device:GPU:0', device_type='GPU')]\n",
      "Current GPU device: /device:GPU:0\n",
      "TensorFlow is built with CUDA support (GPU acceleration).\n",
      "[PhysicalDevice(name='/physical_device:GPU:0', device_type='GPU')]\n"
     ]
    },
    {
     "name": "stderr",
     "output_type": "stream",
     "text": [
      "2023-10-10 11:11:20.246653: I tensorflow/compiler/xla/stream_executor/cuda/cuda_gpu_executor.cc:894] successful NUMA node read from SysFS had negative value (-1), but there must be at least one NUMA node, so returning NUMA node zero. See more at https://github.com/torvalds/linux/blob/v6.0/Documentation/ABI/testing/sysfs-bus-pci#L344-L355\n",
      "2023-10-10 11:11:20.301174: I tensorflow/compiler/xla/stream_executor/cuda/cuda_gpu_executor.cc:894] successful NUMA node read from SysFS had negative value (-1), but there must be at least one NUMA node, so returning NUMA node zero. See more at https://github.com/torvalds/linux/blob/v6.0/Documentation/ABI/testing/sysfs-bus-pci#L344-L355\n",
      "2023-10-10 11:11:20.301324: I tensorflow/compiler/xla/stream_executor/cuda/cuda_gpu_executor.cc:894] successful NUMA node read from SysFS had negative value (-1), but there must be at least one NUMA node, so returning NUMA node zero. See more at https://github.com/torvalds/linux/blob/v6.0/Documentation/ABI/testing/sysfs-bus-pci#L344-L355\n",
      "2023-10-10 11:11:20.303335: I tensorflow/compiler/xla/stream_executor/cuda/cuda_gpu_executor.cc:894] successful NUMA node read from SysFS had negative value (-1), but there must be at least one NUMA node, so returning NUMA node zero. See more at https://github.com/torvalds/linux/blob/v6.0/Documentation/ABI/testing/sysfs-bus-pci#L344-L355\n",
      "2023-10-10 11:11:20.303452: I tensorflow/compiler/xla/stream_executor/cuda/cuda_gpu_executor.cc:894] successful NUMA node read from SysFS had negative value (-1), but there must be at least one NUMA node, so returning NUMA node zero. See more at https://github.com/torvalds/linux/blob/v6.0/Documentation/ABI/testing/sysfs-bus-pci#L344-L355\n",
      "2023-10-10 11:11:20.303528: I tensorflow/compiler/xla/stream_executor/cuda/cuda_gpu_executor.cc:894] successful NUMA node read from SysFS had negative value (-1), but there must be at least one NUMA node, so returning NUMA node zero. See more at https://github.com/torvalds/linux/blob/v6.0/Documentation/ABI/testing/sysfs-bus-pci#L344-L355\n",
      "2023-10-10 11:11:20.342101: I tensorflow/compiler/xla/stream_executor/cuda/cuda_gpu_executor.cc:894] successful NUMA node read from SysFS had negative value (-1), but there must be at least one NUMA node, so returning NUMA node zero. See more at https://github.com/torvalds/linux/blob/v6.0/Documentation/ABI/testing/sysfs-bus-pci#L344-L355\n",
      "2023-10-10 11:11:20.342245: I tensorflow/compiler/xla/stream_executor/cuda/cuda_gpu_executor.cc:894] successful NUMA node read from SysFS had negative value (-1), but there must be at least one NUMA node, so returning NUMA node zero. See more at https://github.com/torvalds/linux/blob/v6.0/Documentation/ABI/testing/sysfs-bus-pci#L344-L355\n",
      "2023-10-10 11:11:20.342350: I tensorflow/compiler/xla/stream_executor/cuda/cuda_gpu_executor.cc:894] successful NUMA node read from SysFS had negative value (-1), but there must be at least one NUMA node, so returning NUMA node zero. See more at https://github.com/torvalds/linux/blob/v6.0/Documentation/ABI/testing/sysfs-bus-pci#L344-L355\n",
      "2023-10-10 11:11:20.342435: I tensorflow/core/common_runtime/gpu/gpu_device.cc:1886] Created device /device:GPU:0 with 2284 MB memory:  -> device: 0, name: NVIDIA GeForce RTX 3050 Laptop GPU, pci bus id: 0000:01:00.0, compute capability: 8.6\n"
     ]
    }
   ],
   "source": [
    "# Check if TensorFlow can access any GPU devices\n",
    "gpu_devices = tf.config.list_physical_devices('GPU')\n",
    "\n",
    "if len(gpu_devices) == 0:\n",
    "    print(\"No GPU devices found.\")\n",
    "else:\n",
    "    print(f\"GPU devices found: {gpu_devices}\")\n",
    "\n",
    "# Check which GPU device is currently being used (if any)\n",
    "current_gpu_device = tf.test.gpu_device_name()\n",
    "if current_gpu_device:\n",
    "    print(f\"Current GPU device: {current_gpu_device}\")\n",
    "else:\n",
    "    print(\"No GPU device is currently being used.\")\n",
    "\n",
    "# Check if GPU acceleration is available for TensorFlow\n",
    "if tf.test.is_built_with_cuda():\n",
    "    print(\"TensorFlow is built with CUDA support (GPU acceleration).\")\n",
    "else:\n",
    "    print(\"TensorFlow is not built with CUDA support (GPU acceleration).\")\n",
    "\n",
    "    \n",
    "print(tf.config.list_physical_devices('GPU'))"
   ]
  },
  {
   "cell_type": "code",
   "execution_count": 3,
   "metadata": {},
   "outputs": [],
   "source": [
    "preprocess_url = \"https://tfhub.dev/tensorflow/bert_multi_cased_preprocess/3\"\n",
    "encoder_url = \"https://tfhub.dev/tensorflow/bert_multi_cased_L-12_H-768_A-12/4\" "
   ]
  },
  {
   "cell_type": "code",
   "execution_count": 4,
   "metadata": {},
   "outputs": [
    {
     "data": {
      "text/html": [
       "<div>\n",
       "<style scoped>\n",
       "    .dataframe tbody tr th:only-of-type {\n",
       "        vertical-align: middle;\n",
       "    }\n",
       "\n",
       "    .dataframe tbody tr th {\n",
       "        vertical-align: top;\n",
       "    }\n",
       "\n",
       "    .dataframe thead th {\n",
       "        text-align: right;\n",
       "    }\n",
       "</style>\n",
       "<table border=\"1\" class=\"dataframe\">\n",
       "  <thead>\n",
       "    <tr style=\"text-align: right;\">\n",
       "      <th></th>\n",
       "      <th>tweet</th>\n",
       "      <th>label</th>\n",
       "    </tr>\n",
       "  </thead>\n",
       "  <tbody>\n",
       "    <tr>\n",
       "      <th>0</th>\n",
       "      <td>Marek Koolily hovorí s jasnejšími a faktami.</td>\n",
       "      <td>0</td>\n",
       "    </tr>\n",
       "    <tr>\n",
       "      <th>1</th>\n",
       "      <td>Vyhýbal som sa parlamentným voľbám už veľmi dlho</td>\n",
       "      <td>0</td>\n",
       "    </tr>\n",
       "    <tr>\n",
       "      <th>2</th>\n",
       "      <td>Tak</td>\n",
       "      <td>0</td>\n",
       "    </tr>\n",
       "    <tr>\n",
       "      <th>3</th>\n",
       "      <td>Nech vás Boh žehná za prezidenta Zuzana Capputová</td>\n",
       "      <td>0</td>\n",
       "    </tr>\n",
       "    <tr>\n",
       "      <th>4</th>\n",
       "      <td>Je to tiež osoba na správnom mieste.Ľudia nás ...</td>\n",
       "      <td>0</td>\n",
       "    </tr>\n",
       "  </tbody>\n",
       "</table>\n",
       "</div>"
      ],
      "text/plain": [
       "                                               tweet  label\n",
       "0       Marek Koolily hovorí s jasnejšími a faktami.      0\n",
       "1   Vyhýbal som sa parlamentným voľbám už veľmi dlho      0\n",
       "2                                                Tak      0\n",
       "3  Nech vás Boh žehná za prezidenta Zuzana Capputová      0\n",
       "4  Je to tiež osoba na správnom mieste.Ľudia nás ...      0"
      ]
     },
     "execution_count": 4,
     "metadata": {},
     "output_type": "execute_result"
    }
   ],
   "source": [
    "df = pd.read_csv('sk_dataset/slovak_data4_preprocessed.csv')\n",
    "df.head()"
   ]
  },
  {
   "cell_type": "code",
   "execution_count": 5,
   "metadata": {},
   "outputs": [
    {
     "data": {
      "text/plain": [
       "((21046,), (5262,), (21046,), (5262,))"
      ]
     },
     "execution_count": 5,
     "metadata": {},
     "output_type": "execute_result"
    }
   ],
   "source": [
    "df = df.sample(frac=1, random_state=42)\n",
    "\n",
    "X_train, X_val, y_train, y_val = train_test_split(df['tweet'],\n",
    "                                                  df['label'],\n",
    "                                                  test_size=0.2,\n",
    "                                                  random_state=22, shuffle=True, stratify=df['label'])\n",
    "\n",
    "X_train.shape, X_val.shape, y_train.shape, y_val.shape"
   ]
  },
  {
   "cell_type": "code",
   "execution_count": 6,
   "metadata": {},
   "outputs": [
    {
     "name": "stderr",
     "output_type": "stream",
     "text": [
      "2023-10-10 11:11:37.872868: I tensorflow/compiler/xla/stream_executor/cuda/cuda_gpu_executor.cc:894] successful NUMA node read from SysFS had negative value (-1), but there must be at least one NUMA node, so returning NUMA node zero. See more at https://github.com/torvalds/linux/blob/v6.0/Documentation/ABI/testing/sysfs-bus-pci#L344-L355\n",
      "2023-10-10 11:11:37.873073: I tensorflow/compiler/xla/stream_executor/cuda/cuda_gpu_executor.cc:894] successful NUMA node read from SysFS had negative value (-1), but there must be at least one NUMA node, so returning NUMA node zero. See more at https://github.com/torvalds/linux/blob/v6.0/Documentation/ABI/testing/sysfs-bus-pci#L344-L355\n",
      "2023-10-10 11:11:37.873146: I tensorflow/compiler/xla/stream_executor/cuda/cuda_gpu_executor.cc:894] successful NUMA node read from SysFS had negative value (-1), but there must be at least one NUMA node, so returning NUMA node zero. See more at https://github.com/torvalds/linux/blob/v6.0/Documentation/ABI/testing/sysfs-bus-pci#L344-L355\n",
      "2023-10-10 11:11:37.873252: I tensorflow/compiler/xla/stream_executor/cuda/cuda_gpu_executor.cc:894] successful NUMA node read from SysFS had negative value (-1), but there must be at least one NUMA node, so returning NUMA node zero. See more at https://github.com/torvalds/linux/blob/v6.0/Documentation/ABI/testing/sysfs-bus-pci#L344-L355\n",
      "2023-10-10 11:11:37.873326: I tensorflow/compiler/xla/stream_executor/cuda/cuda_gpu_executor.cc:894] successful NUMA node read from SysFS had negative value (-1), but there must be at least one NUMA node, so returning NUMA node zero. See more at https://github.com/torvalds/linux/blob/v6.0/Documentation/ABI/testing/sysfs-bus-pci#L344-L355\n",
      "2023-10-10 11:11:37.873384: I tensorflow/core/common_runtime/gpu/gpu_device.cc:1886] Created device /job:localhost/replica:0/task:0/device:GPU:0 with 2284 MB memory:  -> device: 0, name: NVIDIA GeForce RTX 3050 Laptop GPU, pci bus id: 0000:01:00.0, compute capability: 8.6\n"
     ]
    }
   ],
   "source": [
    "# Load the bert encoder model\n",
    "bert_preprocess = hub.load(preprocess_url)\n",
    "bert_encoder = hub.KerasLayer(encoder_url)"
   ]
  },
  {
   "cell_type": "code",
   "execution_count": 7,
   "metadata": {},
   "outputs": [],
   "source": [
    "# Defining the model\n",
    "def bert_based_model(dropout_rate=0.1):\n",
    "    # Bert layers\n",
    "    input_text = tf.keras.layers.Input(shape=(), dtype=tf.string, name='inputs')\n",
    "\n",
    "    # Create a KerasLayer for tokenization\n",
    "    tokenize = hub.KerasLayer(bert_preprocess.tokenize)\n",
    "    tokenized_inputs = tokenize(input_text)\n",
    "\n",
    "    tokenized_inputs.shape\n",
    "\n",
    "    # Pack input sequences for the Transformer encoder (if needed)\n",
    "    seq_length = 128  \n",
    "    bert_pack_inputs = hub.KerasLayer(\n",
    "        bert_preprocess.bert_pack_inputs,\n",
    "        arguments=dict(seq_length=seq_length))  # Optional argument.\n",
    "\n",
    "    encoder_inputs = bert_pack_inputs([tokenized_inputs])\n",
    "    outputs = bert_encoder(encoder_inputs)\n",
    "\n",
    "    # Neural network layers\n",
    "    layer = tf.keras.layers.Dropout(dropout_rate)(outputs[\"pooled_output\"])  # Dropout layer\n",
    "    layer = tf.keras.layers.Dense(128, activation=\"relu\")(layer)\n",
    "    layer = tf.keras.layers.BatchNormalization()(layer)\n",
    "\n",
    "    layer = tf.keras.layers.Dropout(dropout_rate)(layer)  # Dropout layer\n",
    "    layer = tf.keras.layers.Dense(64, activation=\"relu\")(layer)\n",
    "    layer = tf.keras.layers.BatchNormalization()(layer)\n",
    "\n",
    "    layer = tf.keras.layers.Dropout(dropout_rate)(layer)\n",
    "    layer = tf.keras.layers.Dense(32, activation=\"relu\")(layer)\n",
    "    layer = tf.keras.layers.BatchNormalization()(layer)\n",
    "\n",
    "\n",
    "    layer = tf.keras.layers.Dropout(dropout_rate)(layer)\n",
    "\n",
    "    # Output layer for binary classification\n",
    "    output = tf.keras.layers.Dense(1, activation=\"sigmoid\", name=\"output\")(layer)\n",
    "\n",
    "    # Use inputs and outputs to construct a final model\n",
    "    model = tf.keras.Model(inputs=[input_text ], outputs = [output])\n",
    "    return model\n",
    "model = bert_based_model()\n"
   ]
  },
  {
   "cell_type": "code",
   "execution_count": 8,
   "metadata": {},
   "outputs": [
    {
     "name": "stdout",
     "output_type": "stream",
     "text": [
      "Model: \"model\"\n",
      "__________________________________________________________________________________________________\n",
      " Layer (type)                Output Shape                 Param #   Connected to                  \n",
      "==================================================================================================\n",
      " inputs (InputLayer)         [(None,)]                    0         []                            \n",
      "                                                                                                  \n",
      " keras_layer_1 (KerasLayer)  (None, None, None)           0         ['inputs[0][0]']              \n",
      "                                                                                                  \n",
      " keras_layer_2 (KerasLayer)  {'input_type_ids': (None,    0         ['keras_layer_1[0][0]']       \n",
      "                             128),                                                                \n",
      "                              'input_mask': (None, 128)                                           \n",
      "                             , 'input_word_ids': (None,                                           \n",
      "                              128)}                                                               \n",
      "                                                                                                  \n",
      " keras_layer (KerasLayer)    {'sequence_output': (None,   1778534   ['keras_layer_2[0][0]',       \n",
      "                              128, 768),                  41         'keras_layer_2[0][1]',       \n",
      "                              'encoder_outputs': [(None              'keras_layer_2[0][2]']       \n",
      "                             , 128, 768),                                                         \n",
      "                              (None, 128, 768),                                                   \n",
      "                              (None, 128, 768),                                                   \n",
      "                              (None, 128, 768),                                                   \n",
      "                              (None, 128, 768),                                                   \n",
      "                              (None, 128, 768),                                                   \n",
      "                              (None, 128, 768),                                                   \n",
      "                              (None, 128, 768),                                                   \n",
      "                              (None, 128, 768),                                                   \n",
      "                              (None, 128, 768),                                                   \n",
      "                              (None, 128, 768),                                                   \n",
      "                              (None, 128, 768)],                                                  \n",
      "                              'default': (None, 768),                                             \n",
      "                              'pooled_output': (None, 7                                           \n",
      "                             68)}                                                                 \n",
      "                                                                                                  \n",
      " dropout (Dropout)           (None, 768)                  0         ['keras_layer[0][13]']        \n",
      "                                                                                                  \n",
      " dense (Dense)               (None, 128)                  98432     ['dropout[0][0]']             \n",
      "                                                                                                  \n",
      " batch_normalization (Batch  (None, 128)                  512       ['dense[0][0]']               \n",
      " Normalization)                                                                                   \n",
      "                                                                                                  \n",
      " dropout_1 (Dropout)         (None, 128)                  0         ['batch_normalization[0][0]'] \n",
      "                                                                                                  \n",
      " dense_1 (Dense)             (None, 64)                   8256      ['dropout_1[0][0]']           \n",
      "                                                                                                  \n",
      " batch_normalization_1 (Bat  (None, 64)                   256       ['dense_1[0][0]']             \n",
      " chNormalization)                                                                                 \n",
      "                                                                                                  \n",
      " dropout_2 (Dropout)         (None, 64)                   0         ['batch_normalization_1[0][0]'\n",
      "                                                                    ]                             \n",
      "                                                                                                  \n",
      " dense_2 (Dense)             (None, 32)                   2080      ['dropout_2[0][0]']           \n",
      "                                                                                                  \n",
      " batch_normalization_2 (Bat  (None, 32)                   128       ['dense_2[0][0]']             \n",
      " chNormalization)                                                                                 \n",
      "                                                                                                  \n",
      " dropout_3 (Dropout)         (None, 32)                   0         ['batch_normalization_2[0][0]'\n",
      "                                                                    ]                             \n",
      "                                                                                                  \n",
      " output (Dense)              (None, 1)                    33        ['dropout_3[0][0]']           \n",
      "                                                                                                  \n",
      "==================================================================================================\n",
      "Total params: 177963138 (678.88 MB)\n",
      "Trainable params: 109249 (426.75 KB)\n",
      "Non-trainable params: 177853889 (678.46 MB)\n",
      "__________________________________________________________________________________________________\n"
     ]
    }
   ],
   "source": [
    "model.summary()"
   ]
  },
  {
   "cell_type": "code",
   "execution_count": 17,
   "metadata": {},
   "outputs": [],
   "source": [
    "import os\n",
    "checkpoint_dir = \"checkpoints/checkpoints_mul/sk_checkpoint6\"\n",
    "\n",
    "# creates the folder if not exist\n",
    "if not os.path.exists(checkpoint_dir):\n",
    "    os.makedirs(checkpoint_dir, mode = 0o777)\n",
    "\n",
    "checkpoint_file_format = os.path.join(checkpoint_dir, \"model_epoch_{epoch:02d}--loss-{loss:.4f}.h5\")\n",
    "\n",
    "# Create a ModelCheckpoint callback\n",
    "model_checkpoint_callback = tf.keras.callbacks.ModelCheckpoint(\n",
    "    filepath=checkpoint_file_format,\n",
    "    save_weights_only=True,  # Save only the model's weights\n",
    "    save_best_only=True,     # Save the best one\n",
    "    monitor=\"loss\",          # Monitor loss\n",
    "    mode=\"auto\",             # Auto-detect whether to minimize or maximize the monitored metric\n",
    "    verbose=1)               # Show progress during training\n",
    "\n",
    "\n",
    "#Compile the model\n",
    "METRICS = [\n",
    "      tf.keras.metrics.BinaryAccuracy(name='accuracy'),\n",
    "      tf.keras.metrics.Precision(name='precision'),\n",
    "      tf.keras.metrics.Recall(name='recall')\n",
    "]\n",
    "\n",
    "# Learning rate scheduling\n",
    "lr_schedule = tf.keras.optimizers.schedules.ExponentialDecay(\n",
    "    initial_learning_rate=2e-3,\n",
    "    decay_steps=1000,\n",
    "    decay_rate=0.9\n",
    ")\n",
    "\n",
    "model.compile(optimizer=tf.keras.optimizers.Adam(learning_rate=lr_schedule),\n",
    "              loss='binary_crossentropy',\n",
    "              metrics=METRICS)"
   ]
  },
  {
   "cell_type": "code",
   "execution_count": 18,
   "metadata": {},
   "outputs": [
    {
     "name": "stdout",
     "output_type": "stream",
     "text": [
      "Epoch 1/20\n",
      "658/658 [==============================] - ETA: 0s - loss: 0.5265 - accuracy: 0.7229 - precision: 0.6779 - recall: 0.8498\n",
      "Epoch 1: loss improved from inf to 0.52646, saving model to checkpoints/checkpoints_mul/sk_checkpoint6/model_epoch_01--loss-0.5265.h5\n",
      "658/658 [==============================] - 230s 346ms/step - loss: 0.5265 - accuracy: 0.7229 - precision: 0.6779 - recall: 0.8498\n",
      "Epoch 2/20\n",
      "658/658 [==============================] - ETA: 0s - loss: 0.5249 - accuracy: 0.7223 - precision: 0.6746 - recall: 0.8590\n",
      "Epoch 2: loss improved from 0.52646 to 0.52490, saving model to checkpoints/checkpoints_mul/sk_checkpoint6/model_epoch_02--loss-0.5249.h5\n",
      "658/658 [==============================] - 229s 348ms/step - loss: 0.5249 - accuracy: 0.7223 - precision: 0.6746 - recall: 0.8590\n",
      "Epoch 3/20\n",
      "658/658 [==============================] - ETA: 0s - loss: 0.5204 - accuracy: 0.7224 - precision: 0.6743 - recall: 0.8605\n",
      "Epoch 3: loss improved from 0.52490 to 0.52036, saving model to checkpoints/checkpoints_mul/sk_checkpoint6/model_epoch_03--loss-0.5204.h5\n",
      "658/658 [==============================] - 230s 349ms/step - loss: 0.5204 - accuracy: 0.7224 - precision: 0.6743 - recall: 0.8605\n",
      "Epoch 4/20\n",
      "658/658 [==============================] - ETA: 0s - loss: 0.5168 - accuracy: 0.7256 - precision: 0.6788 - recall: 0.8570\n",
      "Epoch 4: loss improved from 0.52036 to 0.51682, saving model to checkpoints/checkpoints_mul/sk_checkpoint6/model_epoch_04--loss-0.5168.h5\n",
      "658/658 [==============================] - 230s 350ms/step - loss: 0.5168 - accuracy: 0.7256 - precision: 0.6788 - recall: 0.8570\n",
      "Epoch 5/20\n",
      "658/658 [==============================] - ETA: 0s - loss: 0.5160 - accuracy: 0.7265 - precision: 0.6804 - recall: 0.8543\n",
      "Epoch 5: loss improved from 0.51682 to 0.51596, saving model to checkpoints/checkpoints_mul/sk_checkpoint6/model_epoch_05--loss-0.5160.h5\n",
      "658/658 [==============================] - 230s 350ms/step - loss: 0.5160 - accuracy: 0.7265 - precision: 0.6804 - recall: 0.8543\n",
      "Epoch 6/20\n",
      "658/658 [==============================] - ETA: 0s - loss: 0.5098 - accuracy: 0.7344 - precision: 0.6858 - recall: 0.8653\n",
      "Epoch 6: loss improved from 0.51596 to 0.50984, saving model to checkpoints/checkpoints_mul/sk_checkpoint6/model_epoch_06--loss-0.5098.h5\n",
      "658/658 [==============================] - 230s 350ms/step - loss: 0.5098 - accuracy: 0.7344 - precision: 0.6858 - recall: 0.8653\n",
      "Epoch 7/20\n",
      "658/658 [==============================] - ETA: 0s - loss: 0.5121 - accuracy: 0.7323 - precision: 0.6841 - recall: 0.8637\n",
      "Epoch 7: loss did not improve from 0.50984\n",
      "658/658 [==============================] - 230s 349ms/step - loss: 0.5121 - accuracy: 0.7323 - precision: 0.6841 - recall: 0.8637\n",
      "Epoch 8/20\n",
      "658/658 [==============================] - ETA: 0s - loss: 0.5054 - accuracy: 0.7369 - precision: 0.6891 - recall: 0.8636\n",
      "Epoch 8: loss improved from 0.50984 to 0.50539, saving model to checkpoints/checkpoints_mul/sk_checkpoint6/model_epoch_08--loss-0.5054.h5\n",
      "658/658 [==============================] - 230s 350ms/step - loss: 0.5054 - accuracy: 0.7369 - precision: 0.6891 - recall: 0.8636\n",
      "Epoch 9/20\n",
      "658/658 [==============================] - ETA: 0s - loss: 0.5039 - accuracy: 0.7367 - precision: 0.6897 - recall: 0.8608\n",
      "Epoch 9: loss improved from 0.50539 to 0.50389, saving model to checkpoints/checkpoints_mul/sk_checkpoint6/model_epoch_09--loss-0.5039.h5\n",
      "658/658 [==============================] - 230s 350ms/step - loss: 0.5039 - accuracy: 0.7367 - precision: 0.6897 - recall: 0.8608\n",
      "Epoch 10/20\n",
      "658/658 [==============================] - ETA: 0s - loss: 0.5047 - accuracy: 0.7365 - precision: 0.6904 - recall: 0.8580\n",
      "Epoch 10: loss did not improve from 0.50389\n",
      "658/658 [==============================] - 230s 349ms/step - loss: 0.5047 - accuracy: 0.7365 - precision: 0.6904 - recall: 0.8580\n",
      "Epoch 11/20\n",
      "658/658 [==============================] - ETA: 0s - loss: 0.4979 - accuracy: 0.7401 - precision: 0.6945 - recall: 0.8578\n",
      "Epoch 11: loss improved from 0.50389 to 0.49789, saving model to checkpoints/checkpoints_mul/sk_checkpoint6/model_epoch_11--loss-0.4979.h5\n",
      "658/658 [==============================] - 230s 350ms/step - loss: 0.4979 - accuracy: 0.7401 - precision: 0.6945 - recall: 0.8578\n",
      "Epoch 12/20\n",
      "658/658 [==============================] - ETA: 0s - loss: 0.4969 - accuracy: 0.7434 - precision: 0.6978 - recall: 0.8589\n",
      "Epoch 12: loss improved from 0.49789 to 0.49694, saving model to checkpoints/checkpoints_mul/sk_checkpoint6/model_epoch_12--loss-0.4969.h5\n",
      "658/658 [==============================] - 230s 350ms/step - loss: 0.4969 - accuracy: 0.7434 - precision: 0.6978 - recall: 0.8589\n",
      "Epoch 13/20\n",
      "658/658 [==============================] - ETA: 0s - loss: 0.4967 - accuracy: 0.7398 - precision: 0.6942 - recall: 0.8574\n",
      "Epoch 13: loss improved from 0.49694 to 0.49666, saving model to checkpoints/checkpoints_mul/sk_checkpoint6/model_epoch_13--loss-0.4967.h5\n",
      "658/658 [==============================] - 230s 350ms/step - loss: 0.4967 - accuracy: 0.7398 - precision: 0.6942 - recall: 0.8574\n",
      "Epoch 14/20\n",
      "658/658 [==============================] - ETA: 0s - loss: 0.4938 - accuracy: 0.7448 - precision: 0.6987 - recall: 0.8611\n",
      "Epoch 14: loss improved from 0.49666 to 0.49376, saving model to checkpoints/checkpoints_mul/sk_checkpoint6/model_epoch_14--loss-0.4938.h5\n",
      "658/658 [==============================] - 231s 351ms/step - loss: 0.4938 - accuracy: 0.7448 - precision: 0.6987 - recall: 0.8611\n",
      "Epoch 15/20\n",
      "658/658 [==============================] - ETA: 0s - loss: 0.4923 - accuracy: 0.7433 - precision: 0.6979 - recall: 0.8582\n",
      "Epoch 15: loss improved from 0.49376 to 0.49232, saving model to checkpoints/checkpoints_mul/sk_checkpoint6/model_epoch_15--loss-0.4923.h5\n",
      "658/658 [==============================] - 230s 350ms/step - loss: 0.4923 - accuracy: 0.7433 - precision: 0.6979 - recall: 0.8582\n",
      "Epoch 16/20\n",
      "658/658 [==============================] - ETA: 0s - loss: 0.4924 - accuracy: 0.7530 - precision: 0.7083 - recall: 0.8606\n",
      "Epoch 16: loss did not improve from 0.49232\n",
      "658/658 [==============================] - 230s 350ms/step - loss: 0.4924 - accuracy: 0.7530 - precision: 0.7083 - recall: 0.8606\n",
      "Epoch 17/20\n",
      "658/658 [==============================] - ETA: 0s - loss: 0.4894 - accuracy: 0.7520 - precision: 0.7062 - recall: 0.8635\n",
      "Epoch 17: loss improved from 0.49232 to 0.48942, saving model to checkpoints/checkpoints_mul/sk_checkpoint6/model_epoch_17--loss-0.4894.h5\n",
      "658/658 [==============================] - 230s 350ms/step - loss: 0.4894 - accuracy: 0.7520 - precision: 0.7062 - recall: 0.8635\n",
      "Epoch 18/20\n",
      "658/658 [==============================] - ETA: 0s - loss: 0.4857 - accuracy: 0.7522 - precision: 0.7062 - recall: 0.8640\n",
      "Epoch 18: loss improved from 0.48942 to 0.48569, saving model to checkpoints/checkpoints_mul/sk_checkpoint6/model_epoch_18--loss-0.4857.h5\n",
      "658/658 [==============================] - 231s 350ms/step - loss: 0.4857 - accuracy: 0.7522 - precision: 0.7062 - recall: 0.8640\n",
      "Epoch 19/20\n",
      "658/658 [==============================] - ETA: 0s - loss: 0.4851 - accuracy: 0.7516 - precision: 0.7071 - recall: 0.8593\n",
      "Epoch 19: loss improved from 0.48569 to 0.48511, saving model to checkpoints/checkpoints_mul/sk_checkpoint6/model_epoch_19--loss-0.4851.h5\n",
      "658/658 [==============================] - 231s 350ms/step - loss: 0.4851 - accuracy: 0.7516 - precision: 0.7071 - recall: 0.8593\n",
      "Epoch 20/20\n",
      "658/658 [==============================] - ETA: 0s - loss: 0.4871 - accuracy: 0.7505 - precision: 0.7068 - recall: 0.8564\n",
      "Epoch 20: loss did not improve from 0.48511\n",
      "658/658 [==============================] - 230s 349ms/step - loss: 0.4871 - accuracy: 0.7505 - precision: 0.7068 - recall: 0.8564\n"
     ]
    },
    {
     "data": {
      "text/plain": [
       "<keras.src.callbacks.History at 0x7fad7998e7d0>"
      ]
     },
     "execution_count": 18,
     "metadata": {},
     "output_type": "execute_result"
    }
   ],
   "source": [
    "model.fit(X_train, y_train, epochs=20, batch_size=32, callbacks=[model_checkpoint_callback] )"
   ]
  },
  {
   "cell_type": "code",
   "execution_count": 19,
   "metadata": {},
   "outputs": [
    {
     "name": "stdout",
     "output_type": "stream",
     "text": [
      "165/165 [==============================] - 57s 341ms/step - loss: 0.5054 - accuracy: 0.7366 - precision: 0.6722 - recall: 0.9240\n"
     ]
    },
    {
     "data": {
      "text/plain": [
       "[0.5053519606590271,\n",
       " 0.7366020679473877,\n",
       " 0.6721946001052856,\n",
       " 0.9240121841430664]"
      ]
     },
     "execution_count": 19,
     "metadata": {},
     "output_type": "execute_result"
    }
   ],
   "source": [
    "model.evaluate(X_val, y_val)"
   ]
  },
  {
   "cell_type": "code",
   "execution_count": 20,
   "metadata": {},
   "outputs": [
    {
     "name": "stdout",
     "output_type": "stream",
     "text": [
      "165/165 [==============================] - 57s 342ms/step\n"
     ]
    }
   ],
   "source": [
    "y_predicted = model.predict(X_val)\n",
    "y_predicted = y_predicted.flatten()"
   ]
  },
  {
   "cell_type": "code",
   "execution_count": 21,
   "metadata": {},
   "outputs": [
    {
     "data": {
      "text/plain": [
       "array([[1444, 1186],\n",
       "       [ 200, 2432]])"
      ]
     },
     "execution_count": 21,
     "metadata": {},
     "output_type": "execute_result"
    }
   ],
   "source": [
    "from sklearn.metrics import confusion_matrix, classification_report\n",
    "y_predicted = np.where(y_predicted > 0.5, 1, 0)\n",
    "cm = confusion_matrix(y_val, y_predicted)\n",
    "cm"
   ]
  },
  {
   "cell_type": "code",
   "execution_count": 22,
   "metadata": {},
   "outputs": [
    {
     "name": "stdout",
     "output_type": "stream",
     "text": [
      "              precision    recall  f1-score   support\n",
      "\n",
      "           0       0.88      0.55      0.68      2630\n",
      "           1       0.67      0.92      0.78      2632\n",
      "\n",
      "    accuracy                           0.74      5262\n",
      "   macro avg       0.78      0.74      0.73      5262\n",
      "weighted avg       0.78      0.74      0.73      5262\n",
      "\n"
     ]
    }
   ],
   "source": [
    "report = classification_report(y_val, y_predicted)\n",
    "print(report)"
   ]
  },
  {
   "cell_type": "code",
   "execution_count": 23,
   "metadata": {},
   "outputs": [
    {
     "data": {
      "image/png": "[encoded data removed]",
      "text/plain": [
       "<Figure size 640x480 with 2 Axes>"
      ]
     },
     "metadata": {},
     "output_type": "display_data"
    }
   ],
   "source": [
    "import matplotlib.pyplot as plt\n",
    "# Create a figure and axis\n",
    "fig, ax = plt.subplots()\n",
    "\n",
    "# Display the confusion matrix as a table\n",
    "cax = ax.matshow(cm, cmap='Blues')\n",
    "\n",
    "# Remove x-axis and y-axis ticks\n",
    "ax.set_xticks([])\n",
    "ax.set_yticks([])\n",
    "\n",
    "# Set axis labels\n",
    "plt.xlabel('Predicted')\n",
    "plt.ylabel('Actual')\n",
    "\n",
    "# Add a colorbar\n",
    "plt.colorbar(cax)\n",
    "\n",
    "# Add labels with conditional font color\n",
    "for i in range(2):\n",
    "    for j in range(2):\n",
    "        cell_value = cm[i][j]\n",
    "        if i == 0 and j == 1:\n",
    "            text_color = 'black'  # Change font color to black for [0][1]\n",
    "        elif i == 1 and j == 0:\n",
    "            text_color = 'black'  # Change font color to black for [1][0]\n",
    "        else:\n",
    "            text_color = 'white'  # Default font color (white)\n",
    "        plt.text(j, i, str(cell_value), va='center', ha='center', fontsize=14, color=text_color)\n",
    "\n",
    "# Show the plot\n",
    "plt.show()"
   ]
  },
  {
   "cell_type": "code",
   "execution_count": 24,
   "metadata": {},
   "outputs": [
    {
     "name": "stdout",
     "output_type": "stream",
     "text": [
      "1/1 [==============================] - 0s 457ms/step\n"
     ]
    },
    {
     "data": {
      "text/plain": [
       "array([[0.1559869 ],\n",
       "       [0.02031224],\n",
       "       [0.01013936],\n",
       "       [0.76801074],\n",
       "       [0.664268  ]], dtype=float32)"
      ]
     },
     "execution_count": 24,
     "metadata": {},
     "output_type": "execute_result"
    }
   ],
   "source": [
    "slovak_sentences = [\n",
    "    \"Dnes je krásny slnečný deň.\",\n",
    "    \"Včera som čítal knihu v parku.\",\n",
    "    \"Obľubujem dlhé prechádzky v prírode.\",\n",
    "    \"toto je hlúpa lekcia\",\n",
    "    \"nenávidím ťa vidieť plakať\"\n",
    "]\n",
    "model.predict(slovak_sentences)"
   ]
  },
  {
   "cell_type": "code",
   "execution_count": null,
   "metadata": {},
   "outputs": [],
   "source": []
  }
 ],
 "metadata": {
  "kernelspec": {
   "display_name": "tf",
   "language": "python",
   "name": "python3"
  },
  "language_info": {
   "codemirror_mode": {
    "name": "ipython",
    "version": 3
   },
   "file_extension": ".py",
   "mimetype": "text/x-python",
   "name": "python",
   "nbconvert_exporter": "python",
   "pygments_lexer": "ipython3",
   "version": "3.10.13"
  },
  "orig_nbformat": 4
 },
 "nbformat": 4,
 "nbformat_minor": 2
}
